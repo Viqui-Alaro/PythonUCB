{
 "cells": [
  {
   "cell_type": "markdown",
   "metadata": {
    "id": "dzNng6vCL9eP"
   },
   "source": [
    "# PROGRAMACIÓN EN PYTHON\n",
    "\n",
    "## 4. NUMPY Y PANDAS\n",
    "\n",
    "### 4. 1 NumPy"
   ]
  },
  {
   "cell_type": "markdown",
   "metadata": {
    "id": "0vJLt3JRL9eR"
   },
   "source": [
    "<div class=\"alert alert-block alert-info\">\n",
    "<b>Créditos:</b> Se sigue de cerca el tutorial de Justin Johnson, profesor de la Universidad de Michigan.\n",
    "</div>\n"
   ]
  },
  {
   "cell_type": "markdown",
   "metadata": {
    "id": "fY12nHhyL9hX"
   },
   "source": [
    "Numeric Python - NumPy es la biblioteca central para la computación científica en Python. Proporciona un objeto `array` **multidimensional** de alto rendimiento y herramientas para trabajar con estos arrays."
   ]
  },
  {
   "cell_type": "markdown",
   "metadata": {
    "id": "lZMyAdqhL9hY"
   },
   "source": [
    "Para usar NumPy necesitamos importar su librería:"
   ]
  },
  {
   "cell_type": "code",
   "execution_count": null,
   "metadata": {
    "id": "58QdX8BLL9hZ"
   },
   "outputs": [],
   "source": [
    "import numpy as np"
   ]
  },
  {
   "cell_type": "markdown",
   "metadata": {},
   "source": [
    "(nótese que `as` crea un alias para la librería importada)"
   ]
  },
  {
   "cell_type": "markdown",
   "metadata": {
    "id": "DDx6v1EdL9hb"
   },
   "source": [
    "### Arrays"
   ]
  },
  {
   "cell_type": "markdown",
   "metadata": {
    "id": "f-Zv3f7LL9hc"
   },
   "source": [
    "Un array numpy es una cuadrícula de valores, todos del mismo tipo, y está indexada por una tupla de enteros no negativos. El número de dimensiones es el rango del array; la forma de un array es una tupla de números enteros que dan el tamaño del array a lo largo de cada dimensión. "
   ]
  },
  {
   "cell_type": "markdown",
   "metadata": {
    "id": "_eMTRnZRL9hc"
   },
   "source": [
    "Podemos inicializar arrays numpy a partir de listas de Python y acceder a sus elementos usando corchetes. Noten el uso de `shape` (forma) y que con un solo elemento solo entra la longitud del único elemento en la tupla -en Python una tupla no sería (,3):"
   ]
  },
  {
   "cell_type": "code",
   "execution_count": null,
   "metadata": {
    "colab": {
     "base_uri": "https://localhost:8080/",
     "height": 52
    },
    "id": "-l3JrGxCL9hc",
    "outputId": "8d9dad18-c734-4a8a-ca8c-44060a40fb79"
   },
   "outputs": [],
   "source": [
    "a = np.array([1, 2, 3])  # Crea un array de rango 1\n",
    "print(type(a))\n",
    "print(a.shape)\n",
    "print(a[0], a[1], a[2])\n",
    "a[0] = 5                 # Cambia un elemento del array\n",
    "print(a)                  "
   ]
  },
  {
   "cell_type": "markdown",
   "metadata": {},
   "source": [
    "Con más de una fila, corchetes rodean las filas..."
   ]
  },
  {
   "cell_type": "code",
   "execution_count": null,
   "metadata": {
    "colab": {
     "base_uri": "https://localhost:8080/",
     "height": 52
    },
    "id": "ma6mk-kdL9hh",
    "outputId": "0b54ff2f-e7f1-4b30-c653-9bf81cb8fbb0",
    "scrolled": true
   },
   "outputs": [],
   "source": [
    "b = np.array([[1,2,3],[4,5,6]])   # Crea un array de rango 2\n",
    "print(b)\n",
    "print(b.shape)"
   ]
  },
  {
   "cell_type": "markdown",
   "metadata": {
    "id": "F2qwdyvuL9hn"
   },
   "source": [
    "Numpy provee algunas funciones para crear arrays, noten los dobles paréntesis cuando tuplas son argumentos:"
   ]
  },
  {
   "cell_type": "code",
   "execution_count": null,
   "metadata": {
    "colab": {
     "base_uri": "https://localhost:8080/",
     "height": 52
    },
    "id": "mVTN_EBqL9hn",
    "outputId": "d267c65f-ba90-4043-cedb-f468ab1bcc5d"
   },
   "outputs": [],
   "source": [
    "a = np.zeros((2,2))  # Crea un array de zeros\n",
    "print(a)"
   ]
  },
  {
   "cell_type": "code",
   "execution_count": null,
   "metadata": {
    "colab": {
     "base_uri": "https://localhost:8080/",
     "height": 34
    },
    "id": "skiKlNmlL9h5",
    "outputId": "7d1ec1b5-a1fe-4f44-cbe3-cdeacad425f1"
   },
   "outputs": [],
   "source": [
    "b = np.ones((1,2))   # Crea un array de unos\n",
    "print(b)"
   ]
  },
  {
   "cell_type": "code",
   "execution_count": null,
   "metadata": {
    "colab": {
     "base_uri": "https://localhost:8080/",
     "height": 52
    },
    "id": "HtFsr03bL9h7",
    "outputId": "2688b157-2fad-4fc6-f20b-8633207f0326"
   },
   "outputs": [],
   "source": [
    "c = np.full((2,2), 7) # Create a un array lleno de 7\n",
    "print(c)"
   ]
  },
  {
   "cell_type": "code",
   "execution_count": null,
   "metadata": {
    "colab": {
     "base_uri": "https://localhost:8080/",
     "height": 52
    },
    "id": "-QcALHvkL9h9",
    "outputId": "5035d6fe-cb7e-4222-c972-55fe23c9d4c0"
   },
   "outputs": [],
   "source": [
    "d = np.eye(2)        # Crea un array identidad\n",
    "print(d)"
   ]
  },
  {
   "cell_type": "code",
   "execution_count": null,
   "metadata": {
    "colab": {
     "base_uri": "https://localhost:8080/",
     "height": 52
    },
    "id": "RCpaYg9qL9iA",
    "outputId": "25f0b387-39cf-42f3-8701-de860cc75e2e"
   },
   "outputs": [],
   "source": [
    "e = np.random.random((2,2)) # Crea un array de números aleatorios (uniforme 0-1)\n",
    "print(e)"
   ]
  },
  {
   "cell_type": "markdown",
   "metadata": {},
   "source": [
    "¿Por qué molestarnos en crear arrays si podríamos generar algo similar utilizando listas? De acuerdo a NumPy: \"NumPy trae el poder computacional de lenguajes como C y Fortran a Python, un lenguaje mucho más fácil de aprender y usar\". Comparemos tiempos de ejecución de una suma de números con un array vs. una lista.\n",
    "\n",
    "Noten también otra generación de números aleatorios, esta vez enteros. También el uso de `sum` diferenciado entre array y lista."
   ]
  },
  {
   "cell_type": "code",
   "execution_count": null,
   "metadata": {},
   "outputs": [],
   "source": [
    "# Para pruebas\n",
    "np.random.seed(123) # permite que los números (pseudo) aleatorios no cambien\n",
    "un_array = np.random.randint(0, 100, 10000)\n",
    "una_lista = list(un_array)\n",
    "print(un_array)\n",
    "print(un_array.sum())"
   ]
  },
  {
   "cell_type": "code",
   "execution_count": null,
   "metadata": {},
   "outputs": [],
   "source": [
    "%%timeit\n",
    "un_array.sum()"
   ]
  },
  {
   "cell_type": "code",
   "execution_count": null,
   "metadata": {},
   "outputs": [],
   "source": [
    "%%timeit\n",
    "sum(una_lista)"
   ]
  },
  {
   "cell_type": "markdown",
   "metadata": {},
   "source": [
    "Wow, muchísimo más rápido. Y nuevamente notemos que si bien la diferencia es pequeña, el ejemplo es pequeño. Mientras más grande la tarea, más tiempo ahorrado."
   ]
  },
  {
   "cell_type": "markdown",
   "metadata": {
    "id": "jI5qcSDfL9iC"
   },
   "source": [
    "### Index en arrays"
   ]
  },
  {
   "cell_type": "markdown",
   "metadata": {
    "id": "M-E4MUeVL9iC"
   },
   "source": [
    "Numpy ofrece varias formas de trabajar con index en arrays. Por ejemplo se puede operar de la misma forma que con listas, con la diferencia de que se especifique un índice para cada dimensión del array. Recordemos que al usar rangos el límite inferior es inclusivo y el superior exclusivo."
   ]
  },
  {
   "cell_type": "code",
   "execution_count": null,
   "metadata": {
    "colab": {
     "base_uri": "https://localhost:8080/",
     "height": 52
    },
    "id": "wLWA0udwL9iD",
    "outputId": "99f08618-c513-4982-8982-b146fc72dab3"
   },
   "outputs": [],
   "source": [
    "import numpy as np\n",
    "\n",
    "# Creamos el siguiente array\n",
    "a = np.array([[1,2,3,4], [5,6,7,8], [9,10,11,12]])\n",
    "print(a)\n",
    "\n",
    "# Podemos usar lo que sabemos de listas para extraer solo este array de a\n",
    "# [[2 3]\n",
    "#  [6 7]]\n",
    "b = a[:2, 1:3]\n",
    "print(b)"
   ]
  },
  {
   "cell_type": "code",
   "execution_count": null,
   "metadata": {
    "colab": {
     "base_uri": "https://localhost:8080/",
     "height": 52
    },
    "id": "ymfSHAwtL9hj",
    "outputId": "5bd292d8-c751-43b9-d480-f357dde52342"
   },
   "outputs": [],
   "source": [
    "print(b[0, 0], b[0, 1], b[1, 0])"
   ]
  },
  {
   "cell_type": "markdown",
   "metadata": {
    "id": "KahhtZKYL9iF"
   },
   "source": [
    "Ojo: Hemos definido `b` en relación a `a`, por tanto modificar `b` también modificará a `a` cuando estemos trabajando con arrays. Esto es importante pues diferencia a los arrays de otros tipos de contenedores (listas, strings, etc.) de Python, debemos tener cuidado. "
   ]
  },
  {
   "cell_type": "code",
   "execution_count": null,
   "metadata": {
    "colab": {
     "base_uri": "https://localhost:8080/",
     "height": 52
    },
    "id": "1kmtaFHuL9iG",
    "outputId": "ee3ab60c-4064-4a9e-b04c-453d3955f1d1"
   },
   "outputs": [],
   "source": [
    "print(a[0, 1])\n",
    "b[0, 0] = 77    # b[0, 0] son los datos de a[0, 1]\n",
    "print(a[0, 1]) "
   ]
  },
  {
   "cell_type": "markdown",
   "metadata": {},
   "source": [
    "Si no queremos que esto suceda, podemos usar el método `copy` (pero usa el doble de memoria). "
   ]
  },
  {
   "cell_type": "code",
   "execution_count": null,
   "metadata": {},
   "outputs": [],
   "source": [
    "print(a[0, 1])\n",
    "b = np.copy(a[:2, 1:3])\n",
    "b[0, 0] = 44\n",
    "print(a[0, 1])"
   ]
  },
  {
   "cell_type": "markdown",
   "metadata": {
    "id": "NCye3NXhL9iL"
   },
   "source": [
    "Imaginemos que queremos extraer la segunda fila de `a`. Hay varias opciones para conseguirlo y estas afectan la forma del array:"
   ]
  },
  {
   "cell_type": "code",
   "execution_count": null,
   "metadata": {
    "colab": {
     "base_uri": "https://localhost:8080/",
     "height": 69
    },
    "id": "EOiEMsmNL9iL",
    "outputId": "ab2ebe48-9002-45a8-9462-fd490b467f40"
   },
   "outputs": [],
   "source": [
    "fila2_1 = a[1, :]       \n",
    "fila2_2 = a[1:2, :]  \n",
    "fila2_3 = a[[1], :]    # Usar dos corchetes preserva la forma  \n",
    "print(fila2_1, fila2_1.shape)\n",
    "print(fila2_2, fila2_2.shape)\n",
    "print(fila2_3, fila2_3.shape)"
   ]
  },
  {
   "cell_type": "code",
   "execution_count": null,
   "metadata": {
    "colab": {
     "base_uri": "https://localhost:8080/",
     "height": 104
    },
    "id": "JXu73pfDL9iN",
    "outputId": "6c589b85-e9b0-4c13-a39d-4cd9fb2f41ac"
   },
   "outputs": [],
   "source": [
    "# Podemos hacer la misma distinción con columnas:\n",
    "col1_1 = a[:, 1]\n",
    "col1_2 = a[:, 1:2]\n",
    "print(col1_1, col1_1.shape)\n",
    "print()\n",
    "print(col1_2, col1_2.shape)"
   ]
  },
  {
   "cell_type": "markdown",
   "metadata": {
    "id": "kaE8dBGgL9id"
   },
   "source": [
    "Otra forma de extraer elementos de un array es mediante condiciones lógicas (boolean array indexing):"
   ]
  },
  {
   "cell_type": "code",
   "execution_count": null,
   "metadata": {
    "colab": {
     "base_uri": "https://localhost:8080/",
     "height": 69
    },
    "id": "32PusjtKL9id",
    "outputId": "8782e8ec-b78d-44d7-8141-23e39750b854"
   },
   "outputs": [],
   "source": [
    "import numpy as np\n",
    "\n",
    "a = np.array([[1,2], [3, 4], [5, 6]])\n",
    "\n",
    "bool_idx = (a > 2)  # Encuentra los elementos de a que son mayores a 2;\n",
    "                    # esto retorna un array de datos lógicos con la forma de a,\n",
    "                    # verdadero o falso\n",
    "\n",
    "print(bool_idx)"
   ]
  },
  {
   "cell_type": "code",
   "execution_count": null,
   "metadata": {
    "colab": {
     "base_uri": "https://localhost:8080/",
     "height": 52
    },
    "id": "cb2IRMXaL9if",
    "outputId": "5983f208-3738-472d-d6ab-11fe85b36c95"
   },
   "outputs": [],
   "source": [
    "# Usamos este array para extraer los elementos mayores a 2\n",
    "print(a[bool_idx])\n",
    "\n",
    "# Ahora que ya conocemos el proceso, esta es la forma abreviada de hacerlo:\n",
    "print(a[a > 2])\n",
    "print(a[a > 2].shape)"
   ]
  },
  {
   "cell_type": "markdown",
   "metadata": {
    "id": "kSZQ1WkIL9ih"
   },
   "source": [
    "NumPy intenta adivinar el tipo de dato de cada array, pero podemos especificarlo explícitamente."
   ]
  },
  {
   "cell_type": "code",
   "execution_count": null,
   "metadata": {
    "colab": {
     "base_uri": "https://localhost:8080/",
     "height": 34
    },
    "id": "4za4O0m5L9ih",
    "outputId": "2ea4fb80-a4df-43f9-c162-5665895c13ae"
   },
   "outputs": [],
   "source": [
    "x = np.array([1, 2])  # Deja a NumPy escoger\n",
    "y = np.array([1.0, 2.0])  # Deja a Numpy escoger\n",
    "z = np.array([1, 2], dtype=np.int64)  # Especifica tipo de dato\n",
    "\n",
    "print(x.dtype, y.dtype, z.dtype)"
   ]
  },
  {
   "cell_type": "markdown",
   "metadata": {
    "id": "RLVIsZQpL9ik"
   },
   "source": [
    "Generalmente esto no será necesario pero puedes revisar los distintos tipos de datos en la documentación de NumPy https://numpy.org/doc/stable/user/basics.types.html. "
   ]
  },
  {
   "cell_type": "markdown",
   "metadata": {
    "id": "TuB-fdhIL9ik"
   },
   "source": [
    "### Matemática de arrays"
   ]
  },
  {
   "cell_type": "markdown",
   "metadata": {
    "id": "18e8V8elL9ik"
   },
   "source": [
    "Las operaciones matemáticas básicas sobre arrays se ejecutan elemento por elemento, tienen contrapartes como métodos de NumPy:"
   ]
  },
  {
   "cell_type": "code",
   "execution_count": null,
   "metadata": {
    "colab": {
     "base_uri": "https://localhost:8080/",
     "height": 86
    },
    "id": "gHKvBrSKL9il",
    "outputId": "a8a924b1-9d60-4b68-8fd3-e4657ae3f08b"
   },
   "outputs": [],
   "source": [
    "x = np.array([[1,2],[3,4]], dtype=np.float64)\n",
    "y = np.array([[5,6],[7,8]], dtype=np.float64)\n",
    "print(x)\n",
    "print()\n",
    "print(y)"
   ]
  },
  {
   "cell_type": "code",
   "execution_count": null,
   "metadata": {},
   "outputs": [],
   "source": [
    "# Suma elemento por elemento\n",
    "print(x + y)\n",
    "print(np.add(x, y))"
   ]
  },
  {
   "cell_type": "code",
   "execution_count": null,
   "metadata": {},
   "outputs": [],
   "source": [
    "# No parece muy útil el método de NumPy, pero puede serlo\n",
    "print([1,2] + [3]) # Une las listas en vez de sumarlas\n",
    "print(np.add([1,2],[3]))"
   ]
  },
  {
   "cell_type": "code",
   "execution_count": null,
   "metadata": {
    "colab": {
     "base_uri": "https://localhost:8080/",
     "height": 86
    },
    "id": "1fZtIAMxL9in",
    "outputId": "122f1380-6144-4d6c-9d31-f62d839889a2"
   },
   "outputs": [],
   "source": [
    "# Diferencia elemento por elemento\n",
    "print(x - y)\n",
    "print(np.subtract(x, y))"
   ]
  },
  {
   "cell_type": "code",
   "execution_count": null,
   "metadata": {
    "colab": {
     "base_uri": "https://localhost:8080/",
     "height": 86
    },
    "id": "nil4AScML9io",
    "outputId": "038c8bb2-122b-4e59-c0a8-a091014fe68e"
   },
   "outputs": [],
   "source": [
    "# Producto elemento por elemento (diferente a producto de matrices)\n",
    "print(x * y)\n",
    "print(np.multiply(x, y))"
   ]
  },
  {
   "cell_type": "code",
   "execution_count": null,
   "metadata": {
    "colab": {
     "base_uri": "https://localhost:8080/",
     "height": 86
    },
    "id": "0JoA4lH6L9ip",
    "outputId": "12351a74-7871-4bc2-97ce-a508bf4810da"
   },
   "outputs": [],
   "source": [
    "# División elemento por elemento\n",
    "print(x / y)\n",
    "print(np.divide(x, y))"
   ]
  },
  {
   "cell_type": "code",
   "execution_count": null,
   "metadata": {
    "colab": {
     "base_uri": "https://localhost:8080/",
     "height": 52
    },
    "id": "g0iZuA6bL9ir",
    "outputId": "29927dda-4167-4aa8-fbda-9008b09e4356"
   },
   "outputs": [],
   "source": [
    "# Raíz cuadrada elemento por elemento\n",
    "print(np.sqrt(x))"
   ]
  },
  {
   "cell_type": "markdown",
   "metadata": {
    "id": "a5d_uujuL9it"
   },
   "source": [
    "¿Qué pasa si no quisieramos multiplicar los arrays elemento por elemento, y en vez quisiéramos multiplicarlas como si fueran matrices? Usamos `@`."
   ]
  },
  {
   "cell_type": "code",
   "execution_count": null,
   "metadata": {
    "colab": {
     "base_uri": "https://localhost:8080/",
     "height": 52
    },
    "id": "I3FnmoSeL9iu",
    "outputId": "46f4575a-2e5e-4347-a34e-0cc5bd280110"
   },
   "outputs": [],
   "source": [
    "x = np.array([[1,2],[3,4]])\n",
    "y = np.array([[5,6],[7,8]])\n",
    "\n",
    "v = np.array([9,10])\n",
    "w = np.array([11, 12])\n",
    "\n",
    "print(v @ w)\n",
    "print(x @ v)"
   ]
  },
  {
   "cell_type": "markdown",
   "metadata": {},
   "source": [
    "Mmm eso es extraño. No deberíamos poder multiplicar `v` y `w` dado que las dimensiones no son compatibles. NumPy logra el resultado correcto de lo que sucedería si las matrices fueran compatibles, 219. No obstante llegados a este punto nos puede resultar más natural trabajar con matrices, para las cuales NumPy tiene soporte. Volvamos a multiplicar pero esta vez declarando matrices, notando además que ahora sí podemos usar `*` para hacer la multiplicación."
   ]
  },
  {
   "cell_type": "code",
   "execution_count": null,
   "metadata": {},
   "outputs": [],
   "source": [
    "v = np.matrix([9,10])\n",
    "w = np.matrix([11, 12])\n",
    "\n",
    "print(v * w)"
   ]
  },
  {
   "cell_type": "markdown",
   "metadata": {},
   "source": [
    "Ahora sí, la multiplicación es imposible por la incompatibilidad de dimensiones como esperaríamos en algebra lineal.\n",
    "\n",
    "Desafortunadamente no nos conviene explorar más las matrices de NumPy, pues la documentación explica que esta clase probablemente se removerá en el futuro. En cambio, la documentación recomienda utilizar arrays, por tanto volvamos a los arrays.\n",
    "\n",
    "¿Cómo se computaría la inversa de un array?"
   ]
  },
  {
   "cell_type": "code",
   "execution_count": null,
   "metadata": {},
   "outputs": [],
   "source": [
    "np.linalg.inv(y)"
   ]
  },
  {
   "cell_type": "markdown",
   "metadata": {},
   "source": [
    "Hay otras útiles funciones precedidas por `np.linalg` para algebra lineal, como ser el cálculo de eigenvalores con `np.linalg.eigvals`  o el determinante con `np.linalg.det`. Intentemos por ejemplo volver a nuestro ejemplo de la multiplicación de arrays con una de estas funciones, `np.dot`, que es algo más general que el operador `@` que vimos que está más enfocado a multiplicación de matrices. Este es más flexible en función a los argumentos proporcionados (por ejemplo puede multiplicar un escalar por un array)."
   ]
  },
  {
   "cell_type": "code",
   "execution_count": null,
   "metadata": {},
   "outputs": [],
   "source": [
    "v = np.array([9,10])\n",
    "w = np.array([11, 12])\n",
    "np.dot(v, w)"
   ]
  },
  {
   "cell_type": "markdown",
   "metadata": {},
   "source": [
    "Funcionó de nuevo sin problemas (lo que puede ser chocante). Recordemos que las dimensiones son tuplas, y que una tupla de un solo elemento en Python siempre será solo `(x,)`, no `(,x)` por lo cual no se generan conflictos de dimensiones en este caso de arrays unidimensionales. Da lo mismo si transponemos o no el segundo array (`.T`). Cabe tomarlo en cuenta al momento de definir programas donde no queremos incompatibilidad de dimensiones en arrays."
   ]
  },
  {
   "cell_type": "code",
   "execution_count": null,
   "metadata": {},
   "outputs": [],
   "source": [
    "np.dot(v, w.T)"
   ]
  },
  {
   "cell_type": "markdown",
   "metadata": {
    "id": "FbE-1If_L9i0"
   },
   "source": [
    "NumPy provee varias funciones matemáticas, una que ya vimos es`sum`, ahora veamos algunas opciones:"
   ]
  },
  {
   "cell_type": "code",
   "execution_count": null,
   "metadata": {
    "colab": {
     "base_uri": "https://localhost:8080/",
     "height": 69
    },
    "id": "DZUdZvPrL9i0",
    "outputId": "99cad470-d692-4b25-91c9-a57aa25f4c6e"
   },
   "outputs": [],
   "source": [
    "x = np.array([[1,2],[3,4]])\n",
    "\n",
    "print(np.sum(x))  # Suma todos los elementos\n",
    "print(np.sum(x, axis=0))  # Suma las dos filas\n",
    "print(np.sum(x, axis=1))  # Suma las dos columnas"
   ]
  },
  {
   "cell_type": "markdown",
   "metadata": {},
   "source": [
    "Algunas de las operaciones que vimos en la librería `math` también están en NumPy, por ejemplo `exp`:"
   ]
  },
  {
   "cell_type": "code",
   "execution_count": null,
   "metadata": {},
   "outputs": [],
   "source": [
    "print(np.exp(x))"
   ]
  },
  {
   "cell_type": "markdown",
   "metadata": {
    "id": "REfLrUTcL9i7"
   },
   "source": [
    "### Broadcasting"
   ]
  },
  {
   "cell_type": "markdown",
   "metadata": {
    "id": "EygGAMWqL9i7"
   },
   "source": [
    "Broadcasting es un mecanismo poderoso que permite a NumPy trabajar con arrays de diferentes formas al realizar operaciones aritméticas. Con frecuencia tenemos un array más pequeño y uno más grande, y queremos usar el más pequeño varias veces para realizar alguna operación en el array más grande.\n",
    "\n",
    "Por ejemplo, suponga que queremos sumar un vector constante a cada fila de un array. Podríamos hacerlo así:"
   ]
  },
  {
   "cell_type": "code",
   "execution_count": null,
   "metadata": {
    "colab": {
     "base_uri": "https://localhost:8080/",
     "height": 86
    },
    "id": "WEEvkV1ZL9i7",
    "outputId": "3896d03c-3ece-4aa8-f675-aef3a220574d"
   },
   "outputs": [],
   "source": [
    "# Añadiremos el vector v a cada fila del array x,\n",
    "# guardando el resultado en el array y\n",
    "x = np.array([[1,2,3], [4,5,6], [7,8,9], [10, 11, 12]])\n",
    "v = np.array([1, 0, 1])\n",
    "y = np.empty_like(x)   # Crea un objeto vacío igual a x\n",
    "\n",
    "# Sumar el vector v a cada fila del array x con un bucle\n",
    "for i in range(4):\n",
    "    y[i, :] = x[i, :] + v\n",
    "\n",
    "print(y)"
   ]
  },
  {
   "cell_type": "markdown",
   "metadata": {
    "id": "2OlXXupEL9i-"
   },
   "source": [
    "Esto funciona; sin embargo, cuando `x` es muy grande, calcular un bucle en Python podría ser lento. Tenga en cuenta que sumar el vector v a cada fila del array `x` es equivalente a formar una matriz` vv` apilando varias copias de `v` verticalmente, luego realizando la suma de elementos de` x` y `vv`. Podríamos implementar este enfoque así:"
   ]
  },
  {
   "cell_type": "code",
   "execution_count": null,
   "metadata": {
    "colab": {
     "base_uri": "https://localhost:8080/",
     "height": 86
    },
    "id": "vS7UwAQQL9i-",
    "outputId": "8621e502-c25d-4a18-c973-886dbfd1df36"
   },
   "outputs": [],
   "source": [
    "vv = np.tile(v, (4, 1))  # Apilamos 4 copias de v horizantales y 1 (sin copia) vertical\n",
    "print(vv)                "
   ]
  },
  {
   "cell_type": "code",
   "execution_count": null,
   "metadata": {
    "colab": {
     "base_uri": "https://localhost:8080/",
     "height": 86
    },
    "id": "N0hJphSIL9jA",
    "outputId": "def6a757-170c-43bf-8728-732dfb133273"
   },
   "outputs": [],
   "source": [
    "y = x + vv  # Sumamos x y vv elemento por elemento\n",
    "print(y)"
   ]
  },
  {
   "cell_type": "markdown",
   "metadata": {
    "id": "zHos6RJnL9jB"
   },
   "source": [
    "El broadcasting nos permite hacer esto de forma más directa:"
   ]
  },
  {
   "cell_type": "code",
   "execution_count": null,
   "metadata": {
    "colab": {
     "base_uri": "https://localhost:8080/",
     "height": 86
    },
    "id": "vnYFb-gYL9jC",
    "outputId": "df3bea8a-ad72-4a83-90bb-306b55c6fb93"
   },
   "outputs": [],
   "source": [
    "x = np.array([[1,2,3], [4,5,6], [7,8,9], [10, 11, 12]])\n",
    "v = np.array([1, 0, 1])\n",
    "y = x + v\n",
    "print(y)"
   ]
  },
  {
   "cell_type": "markdown",
   "metadata": {
    "id": "08YyIURKL9jH"
   },
   "source": [
    "`y = x + v` funciona pese a que `x` tiene forma `(4, 3)` y `v` tiene forma `(3,)` debido al broadcasting que hace NumPy internamente. No siempre será tan sencillo, por lo que debemos conocer cómo funciona...\n",
    "\n",
    "Al hacer broadcasting entre dos arrays se siguen las siguientes reglas:\n",
    "\n",
    "1. Si los arrays no tienen el mismo rango, toma el arreglo de menor forma (shape) y agrega 1’s por la izquierda a la forma para hacerlos compatibles. Ej. Shapes `(2,3,4)` y `(3,4)` → `(2,3,4)` y `(1,3,4)`. \n",
    "2. Se dice que dos arrays son compatibles en una dimensión si tienen el mismo tamaño en esa dimensión (ej. la segunda y tercera dimensión de `(2,3,4)` y `(1,3,4)`) , o si uno de los arrays tiene tamaño 1 en esa dimensión (ej. la primera dimensión de `(2,3,4)` y `(1,3,4)`).\n",
    "3. Se puede hacer broadcasting si dos arrays son compatibles en todas las dimensiones.\n",
    "4. De ser necesario, el broadcasting replica las dimensiones con tamaño 1 (como en el ejemplo de `x + v`), hasta que alcance el tamaño de la dimensión del otro array.\n",
    "\n",
    "Algunas aplicaciones más del broadcasting:"
   ]
  },
  {
   "cell_type": "code",
   "execution_count": null,
   "metadata": {
    "colab": {
     "base_uri": "https://localhost:8080/",
     "height": 52
    },
    "id": "T5hKS1QaL9jK",
    "outputId": "5f14ac5c-7a21-4216-e91d-cfce5720a804"
   },
   "outputs": [],
   "source": [
    "# Sumar un vector a cada columna del array\n",
    "\n",
    "x = np.array([[1,2,3], [4,5,6]])\n",
    "w = np.array([4,5])\n",
    "\n",
    "# x es (2, 3) y w es (2,).\n",
    "# Recordemos que el (2,) de w es como (1,2) \n",
    "# Si transponemos x se vuelve (3, 2) y podemos usar broadcasting\n",
    "# Transponer el resultado nos lleva a la forma final (2, 3)\n",
    "\n",
    "print(x)\n",
    "print(w)\n",
    "print((x.T + w).T)"
   ]
  },
  {
   "cell_type": "code",
   "execution_count": null,
   "metadata": {
    "colab": {
     "base_uri": "https://localhost:8080/",
     "height": 52
    },
    "id": "JDUrZUl6L9jN",
    "outputId": "53e99a89-c599-406d-9fe3-7aa35ae5fb90"
   },
   "outputs": [],
   "source": [
    "# Otra solución es llevar w a la forma (2, 1);\n",
    "# luego podemos usar broadcast para hacer la suma.\n",
    "print(x + np.reshape(w, (2, 1)))"
   ]
  },
  {
   "cell_type": "code",
   "execution_count": null,
   "metadata": {
    "colab": {
     "base_uri": "https://localhost:8080/",
     "height": 52
    },
    "id": "VzrEo4KGL9jP",
    "outputId": "53c9d4cc-32d5-46b0-d090-53c7db57fb32"
   },
   "outputs": [],
   "source": [
    "# Multiplicar una matriz por una constante:\n",
    "# x tiene forma (2, 3). Numpy trata a los escalares como con forma ();\n",
    "# el broadcast detrás de cámaras nos permite llegar facilmente a:\n",
    "print(x * 2)"
   ]
  },
  {
   "cell_type": "markdown",
   "metadata": {
    "id": "89e2FXxFL9jQ"
   },
   "source": [
    "Broadcasting suele hacer que el código sea más conciso y rápido, por lo que deben usarlo siempre que sea posible."
   ]
  },
  {
   "cell_type": "markdown",
   "metadata": {},
   "source": [
    "### Integer overflow\n",
    "\n",
    "NumPy utiliza enteros al estilo de C, por tanto se puede dar el caso de que un entero llegue a ser tan grande que genere problemas. Debemos tener cuidado con esto."
   ]
  },
  {
   "cell_type": "code",
   "execution_count": null,
   "metadata": {},
   "outputs": [],
   "source": [
    "a = np.array([2**63 - 1, 2**63 - 1])\n",
    "print(a)\n",
    "print(a.dtype)"
   ]
  },
  {
   "cell_type": "markdown",
   "metadata": {},
   "source": [
    "El tipo de dato puede contener enteros hasta $2^{63} - 1$. Sumar 1 hace que surja el siguiente problema."
   ]
  },
  {
   "cell_type": "code",
   "execution_count": null,
   "metadata": {},
   "outputs": [],
   "source": [
    "a + 1"
   ]
  },
  {
   "cell_type": "markdown",
   "metadata": {},
   "source": [
    "Un ejemplo menos obvio."
   ]
  },
  {
   "cell_type": "code",
   "execution_count": null,
   "metadata": {},
   "outputs": [],
   "source": [
    "a.sum()"
   ]
  },
  {
   "cell_type": "markdown",
   "metadata": {},
   "source": [
    "La solución es cambiar el tipo de dato usado en la declaración (perdiendo algo de precisión)."
   ]
  },
  {
   "cell_type": "code",
   "execution_count": null,
   "metadata": {},
   "outputs": [],
   "source": [
    "a = np.array([2**63 - 1, 2**63 - 1], dtype=float)\n",
    "print(a)\n",
    "print(a+1)\n",
    "print(a.sum())"
   ]
  },
  {
   "cell_type": "markdown",
   "metadata": {
    "collapsed": true
   },
   "source": [
    "### 4.2. PANDAS\n",
    "\n",
    "<div class=\"alert alert-block alert-info\">\n",
    "<b>Créditos:</b> Se sigue de cerca la adaptación de la guía del usuario de Pandas de la plataforma de datos abiertos del Gobierno de Argentina.\n",
    "</div>\n",
    "\n",
    "Pandas -cuyo nombre viene de \"panel data\", datos de panel en español-  nació en una empresa de inversiones en 2008, luego se volvió open source. \"Busca proporcionar gran parte de la funcionalidad de análisis y manipulación de datos por que las personas usan R\". En particular, así como el `array` es el corazón de la librería `numpy`, el `DataFrame` (junto a `Series`) es el corazón de la librería `pandas`. Si alguien ya sabe R esta sección de la documentación de pandas les puede resultar útil https://pandas.pydata.org/pandas-docs/stable/getting_started/comparison/comparison_with_r.html. Esta página también incluye documentación para usuarios de Stata, SQL, SAS y hojas de cálculo que quieren aprender Python.\n",
    "\n",
    "Un `DataFrame` es un objeto de dos dimensiones (piensen en una tabla, cómo guardaría alguien datos en Excel), a diferencia de los `array` que eran multidimensionales. Pandas utiliza NumPy. Al estar centrado en tablas, la librería está más especializada en manejo de datos.\n",
    "\n",
    "Comenzamos importando las librerías necesarias (exploraremos tangencialmente matplotlib)."
   ]
  },
  {
   "cell_type": "code",
   "execution_count": null,
   "metadata": {},
   "outputs": [],
   "source": [
    "import numpy as np\n",
    "import pandas as pd\n",
    "import matplotlib.pyplot as plt"
   ]
  },
  {
   "cell_type": "markdown",
   "metadata": {},
   "source": [
    "### SERIES\n",
    "Se puede construir un objeto `Series` con cualquier serie de valores. Las `Series` pueden entenderse como listas con **funcionalides adicionales**. Nótese el uso de `NaN` (\"Not a Number\")."
   ]
  },
  {
   "cell_type": "code",
   "execution_count": null,
   "metadata": {},
   "outputs": [],
   "source": [
    "s = pd.Series([1,3,5,np.nan,6,8])\n",
    "print(s)"
   ]
  },
  {
   "cell_type": "markdown",
   "metadata": {},
   "source": [
    "Sumamos los valores de la serie (noten que se ignoró el `NaN`...volveremos a este tema más adelante). "
   ]
  },
  {
   "cell_type": "code",
   "execution_count": null,
   "metadata": {},
   "outputs": [],
   "source": [
    "print(\"Suma:\", s.sum(), \"/ Cantidad de valores:\", s.count())"
   ]
  },
  {
   "cell_type": "markdown",
   "metadata": {},
   "source": [
    "Las operaciones sobre `Series` son distintas que las operaciones sobre listas."
   ]
  },
  {
   "cell_type": "code",
   "execution_count": null,
   "metadata": {},
   "outputs": [],
   "source": [
    "s * 2"
   ]
  },
  {
   "cell_type": "code",
   "execution_count": null,
   "metadata": {},
   "outputs": [],
   "source": [
    "list(s) * 2"
   ]
  },
  {
   "cell_type": "markdown",
   "metadata": {},
   "source": [
    "Las `Series` pueden tener índices, además del mero índice posicional. Por ejemplo, se puede especificar un **índice temporal** con `pd.date_range`."
   ]
  },
  {
   "cell_type": "code",
   "execution_count": null,
   "metadata": {},
   "outputs": [],
   "source": [
    "# En este caso elegimos crear una serie de tiempo\n",
    "s2 = pd.Series([1,3,5,np.nan,6,8], pd.date_range(\"20161123\", \"20161128\"))\n",
    "s2"
   ]
  },
  {
   "cell_type": "markdown",
   "metadata": {},
   "source": [
    "Todos los valores de las `Series` son del mismo **tipo de dato**. Pandas interpreta los valores de la `Series` para determinar el tipo de dato que mejor se ajuste a su contenido. Se puede **forzar un tipo de datos** distinto del interpretado por `pandas`."
   ]
  },
  {
   "cell_type": "code",
   "execution_count": null,
   "metadata": {},
   "outputs": [],
   "source": [
    "s3 = pd.Series([1,3,5,np.nan,6,8], pd.date_range(\"20161123\", \"20161128\"), dtype=str)\n",
    "s3"
   ]
  },
  {
   "cell_type": "markdown",
   "metadata": {},
   "source": [
    "### DATAFRAME\n",
    "Un `DataFrame` es una estructura de datos de dos dimensiones. Noten que al definirla estamos introduciendo distintos tipos de objetos en cada columna."
   ]
  },
  {
   "cell_type": "code",
   "execution_count": null,
   "metadata": {},
   "outputs": [],
   "source": [
    "df = pd.DataFrame({\n",
    "        \"serie_2\": s2, \n",
    "        \"serie_3\": s3,\n",
    "        \"serie_4\": [4, 3, 2, 23, 15, 30],\n",
    "        \"serie_5\": np.array([300] * 6, dtype='int32')\n",
    "    })\n",
    "df"
   ]
  },
  {
   "cell_type": "markdown",
   "metadata": {},
   "source": [
    "Hay muchas formas de crear un `DataFrame`. `Pandas` tiene toda una serie de **funciones para leer distintos tipos de archivos tabulares** y cargarlos en un `DataFrame`."
   ]
  },
  {
   "cell_type": "code",
   "execution_count": null,
   "metadata": {},
   "outputs": [],
   "source": [
    "df_personas = pd.read_csv(r\"C:\\Mickey\\pro\\docencia\\Curso Programación en Python\\titanic.csv\")\n",
    "df_personas"
   ]
  },
  {
   "cell_type": "markdown",
   "metadata": {},
   "source": [
    "Las **columnas y las filas pueden utilizarse individualmente como series**. En el caso de las columnas, si no se utilizan espacios en los encabezados, incluso se pueden llamar como cualquier otro atributo de un `DataFrame`."
   ]
  },
  {
   "cell_type": "code",
   "execution_count": null,
   "metadata": {},
   "outputs": [],
   "source": [
    "df_personas.Sex"
   ]
  },
  {
   "cell_type": "code",
   "execution_count": null,
   "metadata": {},
   "outputs": [],
   "source": [
    "df_personas.Sex.unique()"
   ]
  },
  {
   "cell_type": "markdown",
   "metadata": {},
   "source": [
    "Una forma útil para obtener un resumen estadístico es `describe`"
   ]
  },
  {
   "cell_type": "code",
   "execution_count": null,
   "metadata": {},
   "outputs": [],
   "source": [
    "df_personas.describe()"
   ]
  },
  {
   "cell_type": "markdown",
   "metadata": {},
   "source": [
    "Podemos inspeccionar un dataframe con los comandos `head` y `tail`."
   ]
  },
  {
   "cell_type": "code",
   "execution_count": null,
   "metadata": {},
   "outputs": [],
   "source": [
    "# Ver las primeras 3 filas\n",
    "df_personas.head(3)"
   ]
  },
  {
   "cell_type": "markdown",
   "metadata": {},
   "source": [
    "Puedes familiarizarte con los tipos de datos usando `dtypes`."
   ]
  },
  {
   "cell_type": "code",
   "execution_count": null,
   "metadata": {},
   "outputs": [],
   "source": [
    "df_personas.dtypes"
   ]
  },
  {
   "cell_type": "markdown",
   "metadata": {},
   "source": [
    "Los dataframes se pueden transponer como arrays con `.T`"
   ]
  },
  {
   "cell_type": "markdown",
   "metadata": {},
   "source": [
    "### Ordenar un DataFrame\n",
    "Podemos ordenar un `DataFrame` **por los valores de sus columnas**."
   ]
  },
  {
   "cell_type": "code",
   "execution_count": null,
   "metadata": {},
   "outputs": [],
   "source": [
    "df_personas.sort_values('Name')"
   ]
  },
  {
   "cell_type": "code",
   "execution_count": null,
   "metadata": {},
   "outputs": [],
   "source": [
    "df_personas.sort_values('PassengerId')"
   ]
  },
  {
   "cell_type": "markdown",
   "metadata": {},
   "source": [
    "Podemos ordenar un `DataFrame` **por los valores de sus índices**, por ejemplo para retornar al orden original."
   ]
  },
  {
   "cell_type": "code",
   "execution_count": null,
   "metadata": {},
   "outputs": [],
   "source": [
    "# Ordena las filas\n",
    "df_personas.sort_index(axis=0)"
   ]
  },
  {
   "cell_type": "code",
   "execution_count": null,
   "metadata": {},
   "outputs": [],
   "source": [
    "# Ordena las columnas\n",
    "df_personas.sort_index(axis=1, ascending=True)"
   ]
  },
  {
   "cell_type": "markdown",
   "metadata": {},
   "source": [
    "### Seleccionar elementos en un DataFrame\n",
    "Los objetos de tipo `DataFrame` soportan funcionalidades extendidas para los operadores **[ ]**. Estos **permiten seleccionar filas, columnas o combinaciones de éstas** dentro del `DataFrame`.\n",
    "\n",
    "Para selccionar una columna, equivalente a `df_personas.Sex`"
   ]
  },
  {
   "cell_type": "code",
   "execution_count": null,
   "metadata": {},
   "outputs": [],
   "source": [
    "df_personas['Sex']"
   ]
  },
  {
   "cell_type": "markdown",
   "metadata": {},
   "source": [
    "Para seleccionar **varias columnas al mismo tiempo**. Noten los dobles corchetes como cuando trabajamos a partir de más de un elemento como hacíamos con arrays:"
   ]
  },
  {
   "cell_type": "code",
   "execution_count": null,
   "metadata": {},
   "outputs": [],
   "source": [
    "df_personas[['Sex', 'Name']]"
   ]
  },
  {
   "cell_type": "markdown",
   "metadata": {},
   "source": [
    "Selección por número de filas"
   ]
  },
  {
   "cell_type": "code",
   "execution_count": null,
   "metadata": {},
   "outputs": [],
   "source": [
    "df_personas[0:2]"
   ]
  },
  {
   "cell_type": "markdown",
   "metadata": {},
   "source": [
    "Selección por etiqueta (índice) de fila"
   ]
  },
  {
   "cell_type": "code",
   "execution_count": null,
   "metadata": {},
   "outputs": [],
   "source": [
    "df[\"20161124\":\"20161126\"]"
   ]
  },
  {
   "cell_type": "markdown",
   "metadata": {},
   "source": [
    "Estas formas de selección son intuitivas, pero la documentación de Pandas recomienda el uso del método optimizado `.loc`, `.iloc`. \n",
    "\n",
    "Si se define una combinación de etiquetas (índices) de columna y fila, resulta equivalente a seleccionar una única celda."
   ]
  },
  {
   "cell_type": "code",
   "execution_count": null,
   "metadata": {},
   "outputs": [],
   "source": [
    "df.loc[\"20161124\", \"serie_3\"]"
   ]
  },
  {
   "cell_type": "markdown",
   "metadata": {},
   "source": [
    "Si se define una combinación de varias etiquetas, resulta en un subconjunto de valores"
   ]
  },
  {
   "cell_type": "code",
   "execution_count": null,
   "metadata": {},
   "outputs": [],
   "source": [
    "df.loc[\"20161124\":\"20161125\", [\"serie_3\", \"serie_5\"]]"
   ]
  },
  {
   "cell_type": "markdown",
   "metadata": {},
   "source": [
    "Es posible **seleccionar una posición especifica** mediante su índice de fila y columna"
   ]
  },
  {
   "cell_type": "code",
   "execution_count": null,
   "metadata": {},
   "outputs": [],
   "source": [
    "df.iloc[1, 3]"
   ]
  },
  {
   "cell_type": "markdown",
   "metadata": {},
   "source": [
    "Y al especificar rangos de valores se selecciona un subjconjunto de celdas"
   ]
  },
  {
   "cell_type": "code",
   "execution_count": null,
   "metadata": {},
   "outputs": [],
   "source": [
    "df.iloc[1:3, 2:4]"
   ]
  },
  {
   "cell_type": "markdown",
   "metadata": {},
   "source": [
    "Si el subconjunto de celdas que se desea seleccionar no es contiguo, se pueden especificar a mano sus índices"
   ]
  },
  {
   "cell_type": "code",
   "execution_count": null,
   "metadata": {},
   "outputs": [],
   "source": [
    "df.iloc[[1, 2, 5], [2, 3]]"
   ]
  },
  {
   "cell_type": "markdown",
   "metadata": {},
   "source": [
    "#### Selección por expresión booleana"
   ]
  },
  {
   "cell_type": "markdown",
   "metadata": {},
   "source": [
    "Los operadores nativos de Python usados para hacer comparaciones booleanas funcionan lugar a lugar dentro de una `Series`"
   ]
  },
  {
   "cell_type": "code",
   "execution_count": null,
   "metadata": {},
   "outputs": [],
   "source": [
    "df_personas.Sex == 'male'"
   ]
  },
  {
   "cell_type": "markdown",
   "metadata": {},
   "source": [
    "**Esto permite hacer consultas facilmente.** Por ejemplo, para seleccionar a las personas de sexo masculino dentro del `DataFrame` se usa un comparador booleano para la selección."
   ]
  },
  {
   "cell_type": "code",
   "execution_count": null,
   "metadata": {},
   "outputs": [],
   "source": [
    "df_personas[df_personas.Sex == 'male']"
   ]
  },
  {
   "cell_type": "markdown",
   "metadata": {},
   "source": [
    "Este tipo de comparaciones booleanas tambien pueden hacerse para un `DataFrame`"
   ]
  },
  {
   "cell_type": "code",
   "execution_count": null,
   "metadata": {},
   "outputs": [],
   "source": [
    "df = df[['serie_2', 'serie_4', 'serie_5']]\n",
    "df > 3"
   ]
  },
  {
   "cell_type": "markdown",
   "metadata": {},
   "source": [
    "Este tipo de comparaciones tambien pueden hacerse para **visualizar consultas dentro de un dataframe**."
   ]
  },
  {
   "cell_type": "code",
   "execution_count": null,
   "metadata": {},
   "outputs": [],
   "source": [
    "df[df > 3] # máscara sobre todos los valores del DataFrame"
   ]
  },
  {
   "cell_type": "markdown",
   "metadata": {},
   "source": [
    "La utilización de comparadores puede ser tan compleja como se desee. "
   ]
  },
  {
   "cell_type": "code",
   "execution_count": null,
   "metadata": {},
   "outputs": [],
   "source": [
    "df[(df > 3) & (df < 300)]"
   ]
  },
  {
   "cell_type": "markdown",
   "metadata": {},
   "source": [
    "### Setear elementos en un DataFrame\n",
    "Setear una nueva columna automáticamente ubica los elementos en el lugar que le corresponden según el índice de la serie y del DataFrame. Los elementos que exceden el índice del DataFrame no se incorporan."
   ]
  },
  {
   "cell_type": "code",
   "execution_count": null,
   "metadata": {},
   "outputs": [],
   "source": [
    "s4 = pd.Series([4, 3, 2, 6, 7, 5], index=pd.date_range('20161126', periods=6))\n",
    "s4"
   ]
  },
  {
   "cell_type": "code",
   "execution_count": null,
   "metadata": {},
   "outputs": [],
   "source": [
    "df['serie_6'] = s4\n",
    "df"
   ]
  },
  {
   "cell_type": "markdown",
   "metadata": {},
   "source": [
    "También podemos agregar columnas en función a los valores de otras columnas con `np.where` como método más compacto y eficiente en la mayoría de los casos (noten que es diferente que el método del mismo nombre de Pandas). La sintaxis es `np.where(condicion, valor si es verdadero, valor si es falso`)."
   ]
  },
  {
   "cell_type": "code",
   "execution_count": null,
   "metadata": {},
   "outputs": [],
   "source": [
    "df['serie_7'] = np.where(df['serie_4'] >= 4, '>=4', '<4')\n",
    "df"
   ]
  },
  {
   "cell_type": "code",
   "execution_count": null,
   "metadata": {},
   "outputs": [],
   "source": [
    "# Podemos remover las columnas creadas con el método drop\n",
    "df = df.drop(columns='serie_7')\n",
    "df"
   ]
  },
  {
   "cell_type": "markdown",
   "metadata": {},
   "source": [
    "Nota: También se pueden eliminar filas por número de fila especificando dicho número de fila (ej.`df.drop([1, 2])`) o su etiqueta omitiendo el argumento columns (ej. `df.drop('2016-11-23')`). Se pueden eliminar valores duplicados de un DataFrame con el método drop duplicates, digamos si queremos tener datos únicos de personas de un dataframe `x`, podemos borrar duplicados usando el carnet con `x.drop_duplicates(subset=['carnet'])`."
   ]
  },
  {
   "cell_type": "markdown",
   "metadata": {},
   "source": [
    "**Los mismos atributos que permiten seleccionar valores, permiten setear valores**."
   ]
  },
  {
   "cell_type": "code",
   "execution_count": null,
   "metadata": {},
   "outputs": [],
   "source": [
    "df.loc[:, \"serie_5\"] = 500\n",
    "df"
   ]
  },
  {
   "cell_type": "code",
   "execution_count": null,
   "metadata": {},
   "outputs": [],
   "source": [
    "df.loc[\"20161126\", \"serie_5\"] = 900\n",
    "df"
   ]
  },
  {
   "cell_type": "code",
   "execution_count": null,
   "metadata": {},
   "outputs": [],
   "source": [
    "df.iloc[:, 3] = 'arbol'\n",
    "df"
   ]
  },
  {
   "cell_type": "markdown",
   "metadata": {},
   "source": [
    "### Agrupar por categorías"
   ]
  },
  {
   "cell_type": "code",
   "execution_count": null,
   "metadata": {},
   "outputs": [],
   "source": [
    "df_personas"
   ]
  },
  {
   "cell_type": "code",
   "execution_count": null,
   "metadata": {},
   "outputs": [],
   "source": [
    "df_personas.groupby('Sex')"
   ]
  },
  {
   "cell_type": "markdown",
   "metadata": {},
   "source": [
    "Queremos calcular el promedio de los precios de tickets al Titanic por género."
   ]
  },
  {
   "cell_type": "code",
   "execution_count": null,
   "metadata": {},
   "outputs": [],
   "source": [
    "df_personas.groupby('Sex')['Fare'].mean()"
   ]
  },
  {
   "cell_type": "markdown",
   "metadata": {},
   "source": [
    "Para asignar los valores de la tabla resultante a un DataFrame, existen algunas complicaciones adicionales pues requeriremos el uso de la función `transform` de forma que se mantenga el número original de filas. Por ejemplo digamos que queremos tener la suma por sexo de cada individuo del pago de boletos en una columna a parte."
   ]
  },
  {
   "cell_type": "code",
   "execution_count": null,
   "metadata": {},
   "outputs": [],
   "source": [
    "df_personas['boletos'] = df_personas.groupby('Sex')['Fare'].sum()\n",
    "df_personas"
   ]
  },
  {
   "cell_type": "markdown",
   "metadata": {},
   "source": [
    "No es lo que esperábamos, esto por la incompatibilidad de estructuras. Ahora probemos con `transform`."
   ]
  },
  {
   "cell_type": "code",
   "execution_count": null,
   "metadata": {},
   "outputs": [],
   "source": [
    "df_personas['boletos'] = df_personas.groupby('Sex')['Fare'].transform('sum')\n",
    "df_personas"
   ]
  },
  {
   "cell_type": "markdown",
   "metadata": {},
   "source": [
    "El resultado ahora sí es el correcto. Si necesitamos una función más compleja en lugar de `sum` u otra de las predeterminadas (o ponerle argumentos a las funciones), podemos apoyarnos con una función lambda."
   ]
  },
  {
   "cell_type": "markdown",
   "metadata": {},
   "source": [
    "### Datos faltantes\n",
    "\n",
    "Pandas utiliza principalmente el valor `np.nan`/`NaN` para representar los datos faltantes (otros son `None` y `NaT`, experimentalmente se tiene `pd.NA`/`<NA>`). Por defecto, no se incluye en los cálculos. Esto nos obliga a ser extremadamente cuidadosos en el análisis de los datos para evitar computar estadísticos con problemas de \"sesgo de selección\", omitir valores que deberían ser cero u otros (ej. promedio)."
   ]
  },
  {
   "cell_type": "code",
   "execution_count": null,
   "metadata": {},
   "outputs": [],
   "source": [
    "df"
   ]
  },
  {
   "cell_type": "code",
   "execution_count": null,
   "metadata": {},
   "outputs": [],
   "source": [
    "df['serie_2'].mean()"
   ]
  },
  {
   "cell_type": "code",
   "execution_count": null,
   "metadata": {},
   "outputs": [],
   "source": [
    "# Imaginemos que los datos faltantes en realidad deberían ser ceros\n",
    "# Ej. Un error en el llenado de encuestas\n",
    "# Noten el uso de fillna\n",
    "promedio_serie2 = df['serie_2'].mean()\n",
    "df['serie_2'] = df['serie_2'].fillna(value=promedio_serie2)\n",
    "df['serie_2'].mean()"
   ]
  },
  {
   "cell_type": "markdown",
   "metadata": {},
   "source": [
    "La presencia de datos faltantes también hace confusas a las comparaciones con operadores, la cual debemos entender bien. Notemos que comparaciones con `NaN` siempre serán falsas."
   ]
  },
  {
   "cell_type": "code",
   "execution_count": null,
   "metadata": {},
   "outputs": [],
   "source": [
    "df['serie_2'] = s2"
   ]
  },
  {
   "cell_type": "code",
   "execution_count": null,
   "metadata": {},
   "outputs": [],
   "source": [
    "df['serie_2'] > 3"
   ]
  },
  {
   "cell_type": "code",
   "execution_count": null,
   "metadata": {},
   "outputs": [],
   "source": [
    "df['serie_2'] <= 3"
   ]
  },
  {
   "cell_type": "markdown",
   "metadata": {},
   "source": [
    "El único caso en el que los valores faltantes son tomados en cuenta en los cálculos en vez de omitirse es con operaciones aritméticas simples (afortunadamente)."
   ]
  },
  {
   "cell_type": "code",
   "execution_count": null,
   "metadata": {},
   "outputs": [],
   "source": [
    "df['serie_2'] + df['serie_5']"
   ]
  },
  {
   "cell_type": "markdown",
   "metadata": {},
   "source": [
    "Además de `fillna`, tenemos a `dropna`, `notna` y `isna` como métodos útiles para datos faltantes."
   ]
  },
  {
   "cell_type": "code",
   "execution_count": null,
   "metadata": {},
   "outputs": [],
   "source": [
    "# Nos dice si hay valores faltantes\n",
    "df['serie_2'].isna()"
   ]
  },
  {
   "cell_type": "code",
   "execution_count": null,
   "metadata": {},
   "outputs": [],
   "source": [
    "# Nos dice si no hay valores faltantes\n",
    "df['serie_2'].notna()"
   ]
  },
  {
   "cell_type": "code",
   "execution_count": null,
   "metadata": {},
   "outputs": [],
   "source": [
    "# Elimina valores faltantes\n",
    "df['serie_2'].dropna()"
   ]
  },
  {
   "cell_type": "code",
   "execution_count": null,
   "metadata": {},
   "outputs": [],
   "source": [
    "# CUIDADO\n",
    "# Aplicado a todo df, dropna elimina toda la fila, incluso si otras variables tienen info\n",
    "df.dropna()"
   ]
  },
  {
   "cell_type": "code",
   "execution_count": null,
   "metadata": {},
   "outputs": [],
   "source": [
    "# Para que solas las filas llenas de NA se borren:\n",
    "df.dropna(how=\"all\")"
   ]
  },
  {
   "cell_type": "markdown",
   "metadata": {},
   "source": [
    "A veces nos puede interesar explotar la información de otras columnas o filas para tratar de predecir los valores faltantes (puede ser el mejor camino). Para estos casos podemos utilizar el método `interpolate` u otros. Analizarlo a profundidad requeriría teoría estadística, pero veremos un ejemplo simple. Favor no utilizar este predeterminado en sus futuras experiencias con Python, porque hay múltiples métodos además del lineal (default) y cada uno puede ser el adecuado para un tipo de contexto."
   ]
  },
  {
   "cell_type": "code",
   "execution_count": null,
   "metadata": {},
   "outputs": [],
   "source": [
    "s = pd.Series([0, 1, np.nan, 3])\n",
    "s"
   ]
  },
  {
   "cell_type": "code",
   "execution_count": null,
   "metadata": {},
   "outputs": [],
   "source": [
    "s.interpolate()"
   ]
  },
  {
   "cell_type": "markdown",
   "metadata": {},
   "source": [
    "### Unir `DataFrame`s\n",
    "#### Concatenar\n",
    "Vamos a extender la información de un dataframe concatenándolo con otro que tiene **nuevas filas**. Aprovecharemos la ocasión para ver como leer datos de Excel (como dato adicional, para exportar un dataframe a Excel pueden usar el método `.to_excel` de forma idéntica)."
   ]
  },
  {
   "cell_type": "code",
   "execution_count": null,
   "metadata": {},
   "outputs": [],
   "source": [
    "df_personas = pd.read_excel(r\"C:\\Mickey\\pro\\docencia\\Curso Programación en Python\\personas.xlsx\")\n",
    "df_personas"
   ]
  },
  {
   "cell_type": "code",
   "execution_count": null,
   "metadata": {},
   "outputs": [],
   "source": [
    "df_personas2 = pd.DataFrame({\n",
    "        \"numero\": [400],\n",
    "        \"nombre_apellido\": [\"Ignacio Heredia\"],\n",
    "        \"sexo\": [\"M\"]\n",
    "    })\n",
    "df_personas2"
   ]
  },
  {
   "cell_type": "code",
   "execution_count": null,
   "metadata": {},
   "outputs": [],
   "source": [
    "# Concatena dataframes \"uno arriba del otro\"\n",
    "df_personas_concat = pd.concat([df_personas, df_personas2], ignore_index=True)\n",
    "df_personas_concat"
   ]
  },
  {
   "cell_type": "markdown",
   "metadata": {},
   "source": [
    "Vamos a extender la información de un dataframe concatenándolo con otro que tiene **nuevas columnas**."
   ]
  },
  {
   "cell_type": "code",
   "execution_count": null,
   "metadata": {},
   "outputs": [],
   "source": [
    "df_personas3 = pd.DataFrame({\"profesion\": [\"programador\"]*3 + [\"artista\"]*2})\n",
    "\n",
    "# axis = 1 para concatenar dataframes \"uno al lado del otro\"\n",
    "pd.concat([df_personas_concat, df_personas3], axis=1)"
   ]
  },
  {
   "cell_type": "markdown",
   "metadata": {},
   "source": [
    "### Merge\n",
    "Vamos a mergear un dataframe con otro que contiene el nombre de los días de la semana, utilizando el índice de tiempo que tienen los dos."
   ]
  },
  {
   "cell_type": "code",
   "execution_count": null,
   "metadata": {},
   "outputs": [],
   "source": [
    "df"
   ]
  },
  {
   "cell_type": "code",
   "execution_count": null,
   "metadata": {},
   "outputs": [],
   "source": [
    "date_range = pd.date_range(\"20161120\", periods=10)"
   ]
  },
  {
   "cell_type": "code",
   "execution_count": null,
   "metadata": {},
   "outputs": [],
   "source": [
    "df_dia_semana_ingles = pd.DataFrame({\"dia_semana_ingles\": date_range.day_name()}, index=date_range)\n",
    "df_dia_semana_ingles"
   ]
  },
  {
   "cell_type": "markdown",
   "metadata": {},
   "source": [
    "Vamos a mergear utilizando las etiquetas del index donde están las fechas."
   ]
  },
  {
   "cell_type": "code",
   "execution_count": null,
   "metadata": {},
   "outputs": [],
   "source": [
    "# \"left\": el dataframe principal es el de la izquierda\n",
    "merged_dia_semana = pd.merge(\n",
    "    df, df_dia_semana_ingles, left_index=True, right_index=True, how=\"left\")\n",
    "merged_dia_semana"
   ]
  },
  {
   "cell_type": "code",
   "execution_count": null,
   "metadata": {},
   "outputs": [],
   "source": [
    "# \"right\": el dataframe principal es el de la derecha\n",
    "pd.merge(df, df_dia_semana_ingles, left_index=True, right_index=True, how=\"right\")"
   ]
  },
  {
   "cell_type": "markdown",
   "metadata": {},
   "source": [
    "Vamos a **mergear dos dataframes utilizando una columna que tienen en común**, para traducir los días de la semana al español."
   ]
  },
  {
   "cell_type": "code",
   "execution_count": null,
   "metadata": {},
   "outputs": [],
   "source": [
    "traduccion_dia_semana = pd.DataFrame({\n",
    "    \"dia_semana_ingles\": [\"Monday\", \"Tuesday\", \"Wednesday\", \"Thursday\", \"Friday\", \"Saturday\", \"Sunday\"],\n",
    "    \"dia_semana_español\": [\"Lunes\", \"Martes\", \"Miércoles\", \"Jueves\", \"Viernes\", \"Sábado\", \"Domingo\"]\n",
    "})\n",
    "traduccion_dia_semana"
   ]
  },
  {
   "cell_type": "markdown",
   "metadata": {},
   "source": [
    "En este caso utilizamos la opción \"on\" en vez de las opciones \"left_index\" y \"right_index\"."
   ]
  },
  {
   "cell_type": "code",
   "execution_count": null,
   "metadata": {},
   "outputs": [],
   "source": [
    "pd.merge(merged_dia_semana, traduccion_dia_semana, on=\"dia_semana_ingles\", how=\"left\")"
   ]
  },
  {
   "cell_type": "markdown",
   "metadata": {},
   "source": [
    "Además de las opciones \"left\" y \"right\" tenemos las opciones \"outer\" e \"inner\". Una sintésis de las cuatro se puede ver abajo (el gráfico de full corresponde a \"outer\").\n",
    "<img src=\"https://www.ionos.es/digitalguide/fileadmin/DigitalGuide/Screenshots_2018/Outer-Join.jpg\" width=\"666\">"
   ]
  },
  {
   "cell_type": "markdown",
   "metadata": {},
   "source": [
    "### 4.3. INTRODUCCIÓN A MATPLOTLIB\n",
    "\n",
    "Los objetos de `pandas` tienen un atributo `plot` que es un **wrapper sobre matplotlib, que simplifica la creación de gráficos**. `matplotlib` por default grafica en una ventana independiente a la consola que ejecuta los scripts. Para que jupyter grafique dentro de la celda de ouput existe el comando magic `%matplotlig.inline` "
   ]
  },
  {
   "cell_type": "code",
   "execution_count": null,
   "metadata": {},
   "outputs": [],
   "source": [
    "df"
   ]
  },
  {
   "cell_type": "code",
   "execution_count": null,
   "metadata": {},
   "outputs": [],
   "source": [
    "%matplotlib inline\n",
    "plt.style.use(\"ggplot\") # como el paquete de R"
   ]
  },
  {
   "cell_type": "code",
   "execution_count": null,
   "metadata": {},
   "outputs": [],
   "source": [
    "df.serie_4.plot.line()"
   ]
  },
  {
   "cell_type": "code",
   "execution_count": null,
   "metadata": {},
   "outputs": [],
   "source": [
    "df.serie_4.plot.hist(bins=2)"
   ]
  },
  {
   "cell_type": "code",
   "execution_count": null,
   "metadata": {},
   "outputs": [],
   "source": [
    "df.plot.scatter(\"serie_4\", \"serie_2\")"
   ]
  },
  {
   "cell_type": "code",
   "execution_count": null,
   "metadata": {},
   "outputs": [],
   "source": [
    "df.plot.bar()"
   ]
  }
 ],
 "metadata": {
  "kernelspec": {
   "display_name": "Python 3",
   "language": "python",
   "name": "python3"
  },
  "language_info": {
   "codemirror_mode": {
    "name": "ipython",
    "version": 3
   },
   "file_extension": ".py",
   "mimetype": "text/x-python",
   "name": "python",
   "nbconvert_exporter": "python",
   "pygments_lexer": "ipython3",
   "version": "3.8.8"
  }
 },
 "nbformat": 4,
 "nbformat_minor": 1
}
