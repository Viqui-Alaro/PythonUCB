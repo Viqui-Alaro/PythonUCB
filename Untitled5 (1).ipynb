{
 "cells": [
  {
   "cell_type": "markdown",
   "id": "42cf74c3",
   "metadata": {},
   "source": [
    "## Pregunta 1 \n",
    "\n",
    "Escriba una función que reciba un número `n` y tenga como salida una lista de los cuadrados de 1 hasta `n`, de tal forma que $cuadrados_i=i^2$, para $1\\leq i \\leq n$. Aseguresé de que si la función recibe un valor $n<1$ se genera un `ValueError` que indique se debe introducir un valor mayor o igual a 1 como entrada de la función. Se eligió el nombre de función `cuadrados` con argumento `n`, en esta y las siguientes preguntas respete el nombre dado a las funciones y argumentos en los ejercicios (no modifique el nombre de las funciones)."
   ]
  },
  {
   "cell_type": "code",
   "execution_count": 6,
   "id": "88ead134",
   "metadata": {},
   "outputs": [
    {
     "name": "stdout",
     "output_type": "stream",
     "text": [
      "616499\n"
     ]
    }
   ],
   "source": [
    "import IPython, random\n",
    "print(random.randint(1,1000000))\n",
    "assert IPython.version_info[0] >= 3, \"Actualice la versión de su editor de Notebooks\""
   ]
  },
  {
   "cell_type": "code",
   "execution_count": 34,
   "id": "7df23181",
   "metadata": {},
   "outputs": [],
   "source": [
    "def cuadrados(n):\n",
    "    if (n < 1) :\n",
    "        raise ValueError('debe introducir un valor mayor o igual a 1.')   \n",
    "    cuad=[]\n",
    "    for i in range(1,n+1):\n",
    "        cuad.append(i**2)\n",
    "    return(cuad)\n",
    "    raise NotImplementedError()"
   ]
  },
  {
   "cell_type": "markdown",
   "id": "d690e8e8",
   "metadata": {},
   "source": [
    "Deberíamos llegar a `cuadrados(10) = [1, 4, 9, 16, 25, 36, 49, 64, 81, 100]`, es decir tomando $n=10$. Verifique si la función definida llega a este resultado en la siguiente línea de código:"
   ]
  },
  {
   "cell_type": "code",
   "execution_count": 32,
   "id": "a4ecb0b0",
   "metadata": {},
   "outputs": [
    {
     "data": {
      "text/plain": [
       "[1, 4, 9, 16, 25, 36, 49, 64, 81, 100]"
      ]
     },
     "execution_count": 32,
     "metadata": {},
     "output_type": "execute_result"
    }
   ],
   "source": [
    "cuadrados(10)"
   ]
  },
  {
   "cell_type": "code",
   "execution_count": null,
   "id": "d168b665",
   "metadata": {},
   "outputs": [],
   "source": []
  }
 ],
 "metadata": {
  "kernelspec": {
   "display_name": "Python 3",
   "language": "python",
   "name": "python3"
  },
  "language_info": {
   "codemirror_mode": {
    "name": "ipython",
    "version": 3
   },
   "file_extension": ".py",
   "mimetype": "text/x-python",
   "name": "python",
   "nbconvert_exporter": "python",
   "pygments_lexer": "ipython3",
   "version": "3.8.8"
  }
 },
 "nbformat": 4,
 "nbformat_minor": 5
}
