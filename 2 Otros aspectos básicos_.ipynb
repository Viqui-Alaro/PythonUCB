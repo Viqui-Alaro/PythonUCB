{
 "cells": [
  {
   "cell_type": "markdown",
   "metadata": {
    "id": "GR7xAF4nTzxp"
   },
   "source": [
    "# PROGRAMACIÓN EN PYTHON\n",
    "## 2. OTROS ASPECTOS BÁSICOS"
   ]
  },
  {
   "cell_type": "markdown",
   "metadata": {
    "id": "8AL4y51_K0HT"
   },
   "source": [
    "## 2.1 FORMATOS Y ENTRADA DE DATOS\n",
    "\n",
    "### Formateo de salida de datos\n",
    "\n",
    "La instrucción `print` tiene argumentos extra para darle un formato a la salida.\n",
    "\n",
    "Para imprimir varias variables en una sóla línea, se separan las variables como argumento por una coma `,`, de esta manera las variables serán separadas por defecto por un espacio como en el ejemplo anterior."
   ]
  },
  {
   "cell_type": "code",
   "execution_count": null,
   "metadata": {
    "id": "No423nGbK0HX"
   },
   "outputs": [],
   "source": [
    "print(12, 13)"
   ]
  },
  {
   "cell_type": "markdown",
   "metadata": {
    "id": "pRPwaZp2K0HZ"
   },
   "source": [
    "Para modificar la separación se puede enviar como argumento una cadena al argumento `sep` de la función `print` de la siguiente manera:\n",
    "```python\n",
    "print(var1, var2, ..., sep=separador)\n",
    "```"
   ]
  },
  {
   "cell_type": "code",
   "execution_count": null,
   "metadata": {
    "id": "2TUcR-94K0Ha"
   },
   "outputs": [],
   "source": [
    "print(12, 13, sep=' -> ')\n",
    "print(12, 13, sep=', siguiente: ')"
   ]
  },
  {
   "cell_type": "markdown",
   "metadata": {
    "id": "y5iXBofqK0Hc"
   },
   "source": [
    "La instrucción `print` agrega por defecto un salto de línea, es por esta razón que el siguiente print se muestra debajo del anterior, y también un `print()` sin argumentos agrega una línea vacía.\n",
    "\n",
    "Para modificar esta terminación, se envía una cadena al argumento `end`, que por defecto vale `\\n`, el caracter de control que representa un salto de línea (este caracter se imprime cuando presionamos la tecla `Enter`)."
   ]
  },
  {
   "cell_type": "code",
   "execution_count": null,
   "metadata": {
    "id": "9HFc8JbVK0Hd"
   },
   "outputs": [],
   "source": [
    "print(12, 13, sep=' -> ', end=' siguiente línea: ')\n",
    "print('Nueva línea')"
   ]
  },
  {
   "cell_type": "markdown",
   "metadata": {
    "id": "RXCCIG2bTzxq"
   },
   "source": [
    "## F-Strings\n",
    "\n",
    "Una forma sencilla de combinar texto y valores es mediante las f-strings. Estas son cadenas que usan la sintaxis:\n",
    "```python\n",
    "cad = f'el texto {var} aquí'\n",
    "```\n",
    "\n",
    "Nótese que para diferenciarla de una cadena normal, lleva la letra `f` por delante, al igual que podemos observar la operación `{var}`, de esta manera podemos poner variables entre llaves, estas se convertirán en cadenas y se mostrará en su posición dentro de la cadena."
   ]
  },
  {
   "cell_type": "code",
   "execution_count": null,
   "metadata": {
    "id": "fA4_R0OvTzxt",
    "outputId": "41f0cc0e-c21c-4684-844b-6b3377d9dcda"
   },
   "outputs": [],
   "source": [
    "a, b, c = 2, 4, 5\n",
    "\n",
    "print(f'({a}, {b}, {c})')"
   ]
  },
  {
   "cell_type": "markdown",
   "metadata": {
    "id": "v3cf69UNTzxy"
   },
   "source": [
    "Esta sintaxis funciona con cualquier tipo de dato y expresiones cuyo resultado se pueda convertir a cadena"
   ]
  },
  {
   "cell_type": "code",
   "execution_count": null,
   "metadata": {
    "id": "hJbBf6R-Tzxz",
    "outputId": "2d1f85ba-7d6b-4c37-f86d-1a0fab8b237e"
   },
   "outputs": [],
   "source": [
    "a, b = 13, 10\n",
    "\n",
    "print(f'a+b: {a}+{b} = {a+b}')"
   ]
  },
  {
   "cell_type": "markdown",
   "metadata": {
    "id": "ZFNC7hBCTzyA"
   },
   "source": [
    "## Entrada de datos\n",
    "\n",
    "Para poder leer datos por teclado se utiliza la instrucción `input()`, la cual devuelve una cadena que contiene toda la línea hasta que se presiona la tecla `Enter`."
   ]
  },
  {
   "cell_type": "code",
   "execution_count": null,
   "metadata": {
    "id": "PY7fSg9kTzyF",
    "outputId": "cb680027-9981-455e-9532-2be9471c12ee"
   },
   "outputs": [],
   "source": [
    "n = input()"
   ]
  },
  {
   "cell_type": "markdown",
   "metadata": {},
   "source": [
    "Ahora podemos hacer operaciones con \"n\" (pregunta por 5 pts.)"
   ]
  },
  {
   "cell_type": "code",
   "execution_count": null,
   "metadata": {},
   "outputs": [],
   "source": [
    "# Operamos sobre n\n",
    "print(n + 3)"
   ]
  },
  {
   "cell_type": "markdown",
   "metadata": {},
   "source": [
    "**Solución correcta:**"
   ]
  },
  {
   "cell_type": "code",
   "execution_count": null,
   "metadata": {},
   "outputs": [],
   "source": [
    "n = int(input())\n",
    "print(n + 3)"
   ]
  },
  {
   "cell_type": "markdown",
   "metadata": {
    "id": "hRF3mNXiK0Hn"
   },
   "source": [
    "### Ejercicio: Monedas británicas\n",
    "\n",
    "Tres unidades de la moneda británica fueron el penique, el chelín, y la libra. Se tenían las siguientes equivalencias: 12 peniques en un chelín y 20 chelines en una libra. Dada una cantidad de monedas  peniques se quiere convertir esta cantidad en libras, chelines y peniques. Para esto se procede de la siguiente manera. La primera \n",
    "conversión será de monedas de peniques a su equivalencia máxima en chelines, luego convertir los chelines a la mayor cantidad de libras como sea posible. Los restos se mantienen en su moneda original.\n",
    "\n",
    "Con lo aprendido hasta ahora, generemos líneas de código que permitan que ante la entrada de un número dado de peniques, se impriman separados por comas la equivalencia en monedas de libras, monedas de chelines, y monedas de un penique, en ese orden. \n",
    "\n",
    "**Ejemplo.** Entrada: `1000`. Salida: `(4, 3, 4)`."
   ]
  },
  {
   "cell_type": "code",
   "execution_count": null,
   "metadata": {
    "id": "-xmQZommTzyK",
    "outputId": "bced5d24-8a73-4f17-af35-4f1e398c9596"
   },
   "outputs": [],
   "source": [
    "# Entrada\n",
    "peniques = int(input())\n",
    "\n",
    "# Conversiones\n",
    "chelines = peniques // 12\n",
    "peniques = peniques - 12*chelines\n",
    "libras = chelines // 20\n",
    "chelines = chelines - 20*libras\n",
    "\n",
    "# Salida\n",
    "print(f'({libras}, {chelines}, {peniques})')"
   ]
  },
  {
   "cell_type": "markdown",
   "metadata": {
    "id": "p3_ZCKp5Rzzw"
   },
   "source": [
    "## 2.2 LISTAS\n",
    "* Una lista es una colección de datos **con un orden especifico**, datos a los que podemos acceder con un index.\n",
    "* Una lista tiene un tamaño modificable a medida que tenga mas datos en su interior.\n",
    "\n",
    "\n",
    "<img src=\"https://i.ibb.co/CVRqt64/Screen-Shot-2020-07-19-at-20-06-05.png\" width=\"150\">\n",
    "\n",
    "**Ejemplo:** Queremos almacenar varios numeros en una lista de forma visual tenemos: \n",
    "\n",
    "<img src=\"https://i.ibb.co/WKp7cvF/Screen-Shot-2020-07-19-at-20-37-55.png\" widht=\"333\">\n",
    "\n",
    "\n"
   ]
  },
  {
   "cell_type": "code",
   "execution_count": null,
   "metadata": {
    "colab": {
     "base_uri": "https://localhost:8080/",
     "height": 34
    },
    "id": "9DpgUgIPRz6Q",
    "outputId": "49f36a8b-ae84-4653-cf83-2bf01afe0250"
   },
   "outputs": [],
   "source": [
    "# Declarar la lista\n",
    "numeros = [55, 13, -100, 0, 8, -3, 2, 16, 15, 1]\n",
    "print(numeros)"
   ]
  },
  {
   "cell_type": "markdown",
   "metadata": {
    "id": "E3o5orF1Rz_y"
   },
   "source": [
    "### Operaciones a realizar con una Lista\n",
    "\n",
    "* Hallar la posición de un elemento en la lista\n",
    "* Acceder a un valor\n",
    "* Reemplazar un valor\n",
    "* Obtener el tamaño de la lista\n",
    "* Añadir un valor\n",
    "* Limpiar la Lista\n",
    "* Verificar si un elemento hace parte de la lista\n",
    "* Contar elementos repetidos\n",
    "* Extend\n",
    "* Insert\n",
    "* Pop\n",
    "* Ordenar listas\n",
    "* Unir listas\n",
    "* Unpack listas\n"
   ]
  },
  {
   "cell_type": "code",
   "execution_count": null,
   "metadata": {
    "colab": {
     "base_uri": "https://localhost:8080/",
     "height": 34
    },
    "id": "fno_sknLWD_Q",
    "outputId": "784c8397-41e4-4e0c-afc9-228b83d1edf3"
   },
   "outputs": [],
   "source": [
    "# Hallar el index de un elemento en una lista\n",
    "\n",
    "lista_aux = [1, 4, 555, 2, 5, 23, 7, 23, 8, 4]\n",
    "print(lista_aux.index(2))"
   ]
  },
  {
   "cell_type": "code",
   "execution_count": null,
   "metadata": {
    "colab": {
     "base_uri": "https://localhost:8080/",
     "height": 67
    },
    "id": "OA9kPXnWR0GG",
    "outputId": "5c06c34c-ed04-47a9-c0f6-004c128e0570"
   },
   "outputs": [],
   "source": [
    "# Acceder a un valor\n",
    "numeros = [55, 13, -100, 8, 0, -3, 2, 16, 15, 1, 101]\n",
    "\n",
    "print(numeros)\n",
    "\n",
    "index = 7\n",
    "print(str(index),\"->\" , numeros[index])\n",
    "print(\"Último ->\" , numeros[-1])"
   ]
  },
  {
   "cell_type": "markdown",
   "metadata": {},
   "source": [
    "Noten el uso del valor negativo para comenzar el conteo por la derecha."
   ]
  },
  {
   "cell_type": "code",
   "execution_count": null,
   "metadata": {
    "id": "ErCagBJMK0Ht",
    "outputId": "1a555b4e-17cf-4347-a1bb-c2809f3a4b15"
   },
   "outputs": [],
   "source": [
    "# También podemos acceder a un rango de valores\n",
    "# Límite inferior inclusivo, limite superior no inclusivo\n",
    "print(numeros)\n",
    "print(numeros[1:2])\n",
    "print(numeros[1:3])\n",
    "print(numeros[1:])\n",
    "print(numeros[:2])\n",
    "print('Del 2 al 8 en pasos de 2:', numeros[2:8:2])\n",
    "print('Todo en pasos de 2:', numeros[::2])"
   ]
  },
  {
   "cell_type": "code",
   "execution_count": null,
   "metadata": {
    "colab": {
     "base_uri": "https://localhost:8080/",
     "height": 51
    },
    "id": "hIkkss4VR0Uw",
    "outputId": "9c9f5f4d-bc19-4078-e1c0-1cf282d449e1"
   },
   "outputs": [],
   "source": [
    "# Reemplazar un valor\n",
    "print(numeros)\n",
    "numeros[0] = 2\n",
    "print(numeros)"
   ]
  },
  {
   "cell_type": "code",
   "execution_count": null,
   "metadata": {
    "colab": {
     "base_uri": "https://localhost:8080/",
     "height": 100
    },
    "id": "Hp2vhPUls-l9",
    "outputId": "585ba6c6-add5-438c-81b1-db453a3c48a8"
   },
   "outputs": [],
   "source": [
    "# Obtener el tamaño de la lista\n",
    "numeros = [1, 2]\n",
    "print(numeros)\n",
    "length = len(numeros)\n",
    "print(\"Largo:\", length)\n",
    "\n",
    "# Cuidado con length y los index\n",
    "print(numeros[0])\n",
    "print(numeros[1])\n",
    "print(numeros[length])"
   ]
  },
  {
   "cell_type": "code",
   "execution_count": null,
   "metadata": {
    "colab": {
     "base_uri": "https://localhost:8080/",
     "height": 100
    },
    "id": "_FNyodAFtLpj",
    "outputId": "fb941df7-93ff-4160-edaf-62155401b26f"
   },
   "outputs": [],
   "source": [
    "# Añadir un valor\n",
    "print(\"Antes de hacer append\")\n",
    "print(numeros)\n",
    "print(\"len ->\", len(numeros))\n",
    "numeros.append(True)\n",
    "print(\"Después de hacer append\")\n",
    "print(numeros)\n",
    "print(\"len ->\", len(numeros))"
   ]
  },
  {
   "cell_type": "code",
   "execution_count": null,
   "metadata": {
    "id": "pVKril7bM63D"
   },
   "outputs": [],
   "source": [
    "# Verificar si un elemento hace parte de la lista\n",
    "7 in numeros"
   ]
  },
  {
   "cell_type": "code",
   "execution_count": null,
   "metadata": {
    "colab": {
     "base_uri": "https://localhost:8080/",
     "height": 67
    },
    "id": "D_Mb0XnsuZ9v",
    "outputId": "3d278ac5-d041-4d3c-aac1-6b4be224a415"
   },
   "outputs": [],
   "source": [
    "# Limpiar la lista\n",
    "numeros.clear()\n",
    "print(numeros)"
   ]
  },
  {
   "cell_type": "code",
   "execution_count": null,
   "metadata": {
    "colab": {
     "base_uri": "https://localhost:8080/",
     "height": 34
    },
    "id": "42xxWd4-U-0x",
    "outputId": "56b94ddf-ace2-4821-a89e-bb0d8efe2c9f"
   },
   "outputs": [],
   "source": [
    "# Contar apariciones de un elemento en una lista\n",
    "numeros = [1, 2, 3, 4, 3, 3, 3, 2, 1]\n",
    "apariciones_de_1 = numeros.count(2)\n",
    "print(apariciones_de_1)"
   ]
  },
  {
   "cell_type": "code",
   "execution_count": null,
   "metadata": {
    "colab": {
     "base_uri": "https://localhost:8080/",
     "height": 34
    },
    "id": "jzJrEwM3ViB3",
    "outputId": "21df172b-f844-4a9b-ca52-8431492c5cfb"
   },
   "outputs": [],
   "source": [
    "# Extender una lista\n",
    "\n",
    "departamentos_bolivia = ['La Paz', 'Cochabamba']\n",
    "\n",
    "departamentos_bolivia2 = ['Beni', 'Tarija', 'Santa Cruz']\n",
    "\n",
    "departamentos_bolivia.extend(departamentos_bolivia2)\n",
    "\n",
    "print('Departamentos de Bolivia:', departamentos_bolivia)"
   ]
  },
  {
   "cell_type": "code",
   "execution_count": null,
   "metadata": {
    "colab": {
     "base_uri": "https://localhost:8080/",
     "height": 51
    },
    "id": "hsc0uTOeWsOn",
    "outputId": "1a432432-e4bc-49d0-9601-73a5c93ccf79"
   },
   "outputs": [],
   "source": [
    "# Insertar un nuevo elemento en una posicion\n",
    "lista_aux = [\"a\", \"b\", \"c\"]\n",
    "print(lista_aux)\n",
    "lista_aux.insert(1, \"d\")\n",
    "print(lista_aux)"
   ]
  },
  {
   "cell_type": "code",
   "execution_count": null,
   "metadata": {
    "colab": {
     "base_uri": "https://localhost:8080/",
     "height": 84
    },
    "id": "WSG-hcK9Wz4y",
    "outputId": "5c98485b-61ee-48a1-cf70-09b77d6bc9b3"
   },
   "outputs": [],
   "source": [
    "# Pop: Remueve un elemento y lo guarda\n",
    "print(lista_aux)\n",
    "ultimo_valor = lista_aux.pop()\n",
    "print(ultimo_valor)\n",
    "print(lista_aux)"
   ]
  },
  {
   "cell_type": "code",
   "execution_count": null,
   "metadata": {
    "id": "sUgitprTK0H2",
    "outputId": "46755c9c-dfae-4ef3-c23b-0dfeb9efdb50"
   },
   "outputs": [],
   "source": [
    "# También se puede especificar una posición diferente a la última\n",
    "ultimo_valor = lista_aux.pop(0)\n",
    "print(ultimo_valor)\n",
    "print(lista_aux)"
   ]
  },
  {
   "cell_type": "code",
   "execution_count": null,
   "metadata": {
    "id": "cMiO9XE3K0H2",
    "outputId": "d5d78e58-95bf-4c85-8c16-3b8836ee94e1"
   },
   "outputs": [],
   "source": [
    "# Podemos ordenar las listas\n",
    "abcd = ['d', 'b', 'a', 'c']\n",
    "abcd.sort()\n",
    "print(abcd)\n",
    "abcd.sort(reverse=True) # orden al revés\n",
    "print(abcd)\n",
    "numeros.sort()\n",
    "print(numeros)"
   ]
  },
  {
   "cell_type": "code",
   "execution_count": null,
   "metadata": {
    "id": "LgfZ3KN9K0H2",
    "outputId": "cc02866e-eb43-4bb2-d180-c5a1485e4595"
   },
   "outputs": [],
   "source": [
    "# Cuidado con las mayúsculas\n",
    "aBcd = ['d', 'B', 'a', 'c']\n",
    "aBcd.sort()\n",
    "print(aBcd)\n",
    "aBcd.sort(key=str.lower)\n",
    "print(aBcd)"
   ]
  },
  {
   "cell_type": "code",
   "execution_count": null,
   "metadata": {
    "id": "TgUqURTpK0H3",
    "outputId": "48b8caaf-d121-4802-ec6a-5c97cad7ae15"
   },
   "outputs": [],
   "source": [
    "# También podemos unir listas más fácilmente que con extend\n",
    "# A veces puede fallar (variables locales), pero es bueno saberlo\n",
    "todos_abcd = abcd + aBcd \n",
    "print(todos_abcd)"
   ]
  },
  {
   "cell_type": "markdown",
   "metadata": {
    "id": "BJ-IFD5oI1Ox"
   },
   "source": [
    "## 2.3 TUPLAS"
   ]
  },
  {
   "cell_type": "markdown",
   "metadata": {
    "id": "F0AjZAN5K0H4"
   },
   "source": [
    "Las tuplas se diferencian de las listas en que no son modificables. Se definen con paréntesis `()`. Algunos identifican a las tuplas con secuencias heterogéneas, como ser las coordenadas de un punto (y a las listas con secuencias homogéneas)."
   ]
  },
  {
   "cell_type": "code",
   "execution_count": null,
   "metadata": {
    "colab": {
     "base_uri": "https://localhost:8080/",
     "height": 34
    },
    "id": "0UIGq4OtJuhj",
    "outputId": "513066a0-47d5-4c5a-d765-04fc50b982f4"
   },
   "outputs": [],
   "source": [
    "# Declarar la tupla\n",
    "numeros = (55, 13, -100, 8, 0, -3, 2, 16, 15, 1)\n",
    "print(numeros)"
   ]
  },
  {
   "cell_type": "code",
   "execution_count": null,
   "metadata": {
    "id": "iluhrRdAJlIF",
    "outputId": "120ba21d-7cd5-4543-fd38-8afa5a1b3cc8"
   },
   "outputs": [],
   "source": [
    "# Noten la diferencia para definir una tupla de un elemento\n",
    "tupla1 = (1)\n",
    "print(type(tupla1))\n",
    "tupla1 = (1,)\n",
    "print(type(tupla1))"
   ]
  },
  {
   "cell_type": "markdown",
   "metadata": {
    "id": "uYPMKF9XK0H7"
   },
   "source": [
    "La mayoría de lo aprendido para listas aplica también a tuplas, exceptuando lo que genera modificaciones."
   ]
  },
  {
   "cell_type": "code",
   "execution_count": null,
   "metadata": {
    "id": "Rp5-8mCNK0H7",
    "outputId": "99255554-718a-4abc-c372-4ae93fcf93fd"
   },
   "outputs": [],
   "source": [
    "print(numeros)\n",
    "print('Largo:', len(numeros))\n",
    "print('Primer elemento:', numeros[0])\n",
    "print('numeros + tupla1:', numeros + tupla1)"
   ]
  },
  {
   "cell_type": "markdown",
   "metadata": {},
   "source": [
    "Recordemos que una tupla no es modificable, por lo cual la ejecución de la siguiente línea de código arrojará un mensaje de error."
   ]
  },
  {
   "cell_type": "code",
   "execution_count": null,
   "metadata": {},
   "outputs": [],
   "source": [
    "numeros[0] = 4"
   ]
  },
  {
   "cell_type": "code",
   "execution_count": null,
   "metadata": {
    "id": "zG9s-LVPK0H7",
    "outputId": "7695c8e7-0c96-4c94-98df-7b81af33919c"
   },
   "outputs": [],
   "source": [
    "# Podemos aplicar unpacking para asignar a otras variables los elementos de una tupla\n",
    "(cero, primera, segunda, tercera, cuarta, *otros) = numeros\n",
    "print(primera)\n",
    "print(otros)"
   ]
  },
  {
   "cell_type": "markdown",
   "metadata": {
    "id": "jQ1hsqU2vlyB"
   },
   "source": [
    "## 2.4 SETS\n",
    "Un set es un conjunto **no ordenado** de elementos (al igual que en matemáticas, no tiene elementos repetidos). Se define con llaves `{}`.\n",
    "\n",
    "### Creacion de un Set"
   ]
  },
  {
   "cell_type": "code",
   "execution_count": null,
   "metadata": {
    "id": "nOGJgRKEvlyK",
    "outputId": "582d6fc5-4594-495c-a621-299ae12cb90c"
   },
   "outputs": [],
   "source": [
    "conjunto = {1, \"2\", \"Tres\", 5.5}\n",
    "print(conjunto)"
   ]
  },
  {
   "cell_type": "markdown",
   "metadata": {
    "id": "N0_sYjpuvlyO"
   },
   "source": [
    "Un \"diccionario\" (otro tipo de objeto que estudiaremos en breve) también utiliza llaves en su definición.\n",
    "\n",
    "```python\n",
    "# Declaracion de un diccionario vacio\n",
    "a = {}\n",
    "```\n",
    "\n",
    "Por lo tanto la correcta definición de un \"set\" vacío es:\n",
    "\n",
    "```python\n",
    "conjunto_vacio = set()\n",
    "```\n",
    "\n",
    "Veamos las operaciones basicas para gestionar a los elementos dentro de un Set.\n",
    "\n",
    "### Operaciones con Sets\n",
    "\n",
    "- Añadir elementos\n",
    "- Discard and remove\n",
    "- Limpiar\n",
    "- Pop"
   ]
  },
  {
   "cell_type": "code",
   "execution_count": null,
   "metadata": {
    "id": "sb1iaVs_vlyT",
    "outputId": "591f01d1-0d44-4b93-9259-999b3f21f894"
   },
   "outputs": [],
   "source": [
    "# Añadir un elemento a un set\n",
    "conjunto = {1, 4, 6, 5}\n",
    "conjunto.add(2)\n",
    "print(conjunto)"
   ]
  },
  {
   "cell_type": "code",
   "execution_count": null,
   "metadata": {
    "id": "VYRsV0xOvlyX",
    "outputId": "95afd6e2-7780-42d8-f4cd-50c08b3a14cc"
   },
   "outputs": [],
   "source": [
    "# Discard\n",
    "conjunto.discard(1)\n",
    "print(\"Discard(1)\\t\", conjunto)"
   ]
  },
  {
   "cell_type": "code",
   "execution_count": null,
   "metadata": {
    "id": "ORrTLJm6vlyc",
    "outputId": "ad39ee0c-1e2e-477e-ae29-352c8d3cc724"
   },
   "outputs": [],
   "source": [
    "# Remove: Ídem que \"discard\", pero tiene como salida un mensaje de error si es que el elemento no existe\n",
    "conjunto.remove(1)"
   ]
  },
  {
   "cell_type": "code",
   "execution_count": null,
   "metadata": {
    "id": "icx5w3xovlyp",
    "outputId": "a6c3cd17-c68a-4c2c-a86a-12f2bede3b0e"
   },
   "outputs": [],
   "source": [
    "# Pop funciona igual que en listas\n",
    "print(conjunto)\n",
    "elem_pop = conjunto.pop()\n",
    "print(conjunto)\n",
    "print(elem_pop)"
   ]
  },
  {
   "cell_type": "code",
   "execution_count": null,
   "metadata": {
    "id": "jpFpKjgGvlyh",
    "outputId": "1b941cf5-106f-466a-adde-d42ce3611cd7"
   },
   "outputs": [],
   "source": [
    "# Limpiar el conjunto\n",
    "print(\"Conjunto original\\t\", conjunto)\n",
    "conjunto.clear()\n",
    "print(\"Conjunto limpio\\t\", conjunto)\n"
   ]
  },
  {
   "cell_type": "markdown",
   "metadata": {
    "id": "23VjovQAvlys"
   },
   "source": [
    "### Operaciones de Conjuntos\n",
    "\n",
    "Como en los conjuntos en las matemáticas, éstos tienen las mismas operaciones.\n",
    "\n",
    "<img src=https://www.tutorialesprogramacionya.com/pythonya/imagentema/foto215.jpg>"
   ]
  },
  {
   "cell_type": "code",
   "execution_count": null,
   "metadata": {
    "id": "oreqcdenvlyt",
    "outputId": "e35f4166-eb97-4eca-b5ae-a02ddfc41d03"
   },
   "outputs": [],
   "source": [
    "# Unión\n",
    "a = {1, 2, 3, 4}\n",
    "b = {3, 4, 5, 6}\n",
    "\n",
    "union = a | b\n",
    "\n",
    "print(union)"
   ]
  },
  {
   "cell_type": "code",
   "execution_count": null,
   "metadata": {
    "id": "-u5GJ1sivlyx"
   },
   "outputs": [],
   "source": [
    "# Intersección\n",
    "a = {1, 2, 3, 4}\n",
    "b = {3, 4, 5, 6}\n",
    "\n",
    "interseccion = a & b\n",
    "\n",
    "print(interseccion)"
   ]
  },
  {
   "cell_type": "code",
   "execution_count": null,
   "metadata": {
    "id": "mq7SFnOnvly0"
   },
   "outputs": [],
   "source": [
    "# Diferencia \n",
    "a = {1, 2, 3, 4}\n",
    "b = {2, 3}\n",
    "\n",
    "diferencia =  a - b\n",
    "\n",
    "print(diferencia)"
   ]
  },
  {
   "cell_type": "code",
   "execution_count": null,
   "metadata": {
    "id": "x61V7FBzK0IC",
    "outputId": "1a30fb95-c5b3-46d7-8c06-95d6b746c6f7"
   },
   "outputs": [],
   "source": [
    "# Diferencia simétrica\n",
    "a = {1, 2, 3, 4}\n",
    "b = {2, 3, 5}\n",
    "\n",
    "a.symmetric_difference(b)"
   ]
  },
  {
   "cell_type": "code",
   "execution_count": null,
   "metadata": {
    "id": "sRTzArHjK0IC",
    "outputId": "e1d20883-0e79-4cb7-d1f7-1dd01ab676e0"
   },
   "outputs": [],
   "source": [
    "# Subconjunto\n",
    "a = {1, 2, 3, 4}\n",
    "b = {2, 3, 5}\n",
    "\n",
    "a.issubset(b)"
   ]
  },
  {
   "cell_type": "code",
   "execution_count": null,
   "metadata": {
    "id": "n4j9cMXbK0IE",
    "outputId": "20166b3e-7770-496c-df3d-fcd3ea9f2e23"
   },
   "outputs": [],
   "source": [
    "# Superconjunto\n",
    "a = {1, 2, 3, 4, 5}\n",
    "b = {2, 3, 5}\n",
    "\n",
    "a.issuperset(b)"
   ]
  },
  {
   "cell_type": "code",
   "execution_count": null,
   "metadata": {
    "id": "57A5itbjK0IE",
    "outputId": "5225dfad-7805-4f9c-c2d5-1b83f71e6516"
   },
   "outputs": [],
   "source": [
    "# ¿Son disjuntos (carecen de intersección)?\n",
    "a = {1, 2, 3, 4, 5}\n",
    "b = {2, 3, 5}\n",
    "\n",
    "a.isdisjoint(b)"
   ]
  },
  {
   "cell_type": "code",
   "execution_count": null,
   "metadata": {
    "id": "igC4eBZ5vly5",
    "outputId": "6db37592-78e3-4739-b041-e3d6793e2920"
   },
   "outputs": [],
   "source": [
    "# Igualdad\n",
    "print({1, 2, 3} == {1, 2, 3})\n",
    "print({1, 2, 3} == {1, 2, \"3\"})"
   ]
  },
  {
   "cell_type": "markdown",
   "metadata": {
    "id": "waJHabZ6K0IF"
   },
   "source": [
    "## 2.5 DICCIONARIOS\n",
    "\n",
    "Los diccionarios se utilizan para almacenar valores de datos en pares key: value. Es una colección **ordenada**, modificable y que no admite duplicados. Se definen con `{}`."
   ]
  },
  {
   "cell_type": "code",
   "execution_count": null,
   "metadata": {
    "id": "gGIAh_qWK0IG",
    "outputId": "864c1fb6-5e50-4779-8081-3b2f7297cba4"
   },
   "outputs": [],
   "source": [
    "traductor_en_es = {\n",
    "    'cat': 'gato', \n",
    "    'dog': 'perro'\n",
    "}\n",
    "print(traductor_en_es)"
   ]
  },
  {
   "cell_type": "markdown",
   "metadata": {
    "id": "9OyaZgoSK0IG"
   },
   "source": [
    "Podemos hacer preguntas relativas a los pares de un diccionario."
   ]
  },
  {
   "cell_type": "code",
   "execution_count": null,
   "metadata": {
    "id": "J1uuC6zlK0IH",
    "outputId": "d5e7ed46-9c8f-48b8-91f3-5a7650bd43dd"
   },
   "outputs": [],
   "source": [
    "traductor_en_es['dog'] "
   ]
  },
  {
   "cell_type": "markdown",
   "metadata": {
    "id": "w-yAHmeKK0IH"
   },
   "source": [
    "Ante duplicados, el diccionario solo tomará en cuenta la última key."
   ]
  },
  {
   "cell_type": "code",
   "execution_count": null,
   "metadata": {
    "id": "lWS0Iv2IK0IH",
    "outputId": "378ad6ce-b3ce-45fc-a658-0f62f76d302f"
   },
   "outputs": [],
   "source": [
    "traductor_en_es = {\n",
    "    'cat': 'gato', \n",
    "    'dog': 'perro',\n",
    "    'dog': 'can'\n",
    "}\n",
    "print(traductor_en_es)"
   ]
  },
  {
   "cell_type": "markdown",
   "metadata": {
    "id": "dRrrr261K0II"
   },
   "source": [
    "Un diccionario puede almacenar cualquier tipo de datos (lógicos, listas, etc.). Incluso diccionarios."
   ]
  },
  {
   "cell_type": "code",
   "execution_count": null,
   "metadata": {
    "id": "tmkIjuJMK0II",
    "outputId": "c8c08618-706a-4178-ff03-3d6723667b7c"
   },
   "outputs": [],
   "source": [
    "thisdict = {\n",
    "  \"brand\": \"Ford\",\n",
    "  \"electric\": False,\n",
    "  \"year\": 1964,\n",
    "  \"colors\": [\"red\", \"white\", \"blue\"]\n",
    "}\n",
    "print(thisdict)"
   ]
  },
  {
   "cell_type": "markdown",
   "metadata": {
    "id": "DrKYBH0PK0IJ"
   },
   "source": [
    "Podemos añadir, actualizar o remover elementos de un diccionario."
   ]
  },
  {
   "cell_type": "code",
   "execution_count": null,
   "metadata": {
    "id": "C2tHkQWzK0IJ",
    "outputId": "dfa9b59c-e1bc-4ae7-f1ab-802645a81566"
   },
   "outputs": [],
   "source": [
    "# Añadimos un elemento (si usamos una key ya existente, se actualizará el valor previo)\n",
    "\n",
    "traductor_en_es['pájaro'] = 'bird'\n",
    "print(traductor_en_es)\n",
    "\n",
    "# Removemos la traducción de \"dog\"\n",
    "traductor_en_es.pop('dog')\n",
    "print(traductor_en_es)"
   ]
  },
  {
   "cell_type": "markdown",
   "metadata": {
    "id": "m19u7UFiK0IK"
   },
   "source": [
    "## 2.6 MANIPULACIÓN DE CADENAS/STRINGS\n",
    "\n",
    "Podemos definir cadenas de múltiples lineas con `'''`."
   ]
  },
  {
   "cell_type": "code",
   "execution_count": null,
   "metadata": {
    "id": "jgXID0i1K0IK",
    "outputId": "c3dd1362-1221-451d-ce37-f33ae3abe1b2"
   },
   "outputs": [],
   "source": [
    "a = '''Lorem ipsum dolor sit amet,\n",
    "consectetur adipiscing elit,\n",
    "sed do eiusmod tempor incididunt\n",
    "ut labore et dolore magna aliqua.'''\n",
    "print(a)"
   ]
  },
  {
   "cell_type": "markdown",
   "metadata": {
    "id": "XcgDzit7L1RU"
   },
   "source": [
    "Podemos realizar muchas operaciones en un string de la misma forma que con una lista."
   ]
  },
  {
   "cell_type": "code",
   "execution_count": null,
   "metadata": {
    "colab": {
     "base_uri": "https://localhost:8080/"
    },
    "id": "8OPHm8HmMHSn",
    "outputId": "c9e50ee6-7344-48ee-fd9b-4f274024a337"
   },
   "outputs": [],
   "source": [
    "# Extraer elementos\n",
    "a = 'Hola mundo!'\n",
    "print(a[5])\n",
    "print(a[:4])"
   ]
  },
  {
   "cell_type": "code",
   "execution_count": null,
   "metadata": {
    "id": "fH-9bcxQNPgk"
   },
   "outputs": [],
   "source": [
    "# Ver cuántos caracteres tiene el string\n",
    "len(a)"
   ]
  },
  {
   "cell_type": "code",
   "execution_count": null,
   "metadata": {
    "id": "BKekKjN7NWA8"
   },
   "outputs": [],
   "source": [
    "# Verificar si un elemento hace parte del string\n",
    "print(\"mundo\" in a)\n",
    "print(\"chau\" not in a)"
   ]
  },
  {
   "cell_type": "code",
   "execution_count": null,
   "metadata": {
    "id": "ou0t8bI3XwqI"
   },
   "outputs": [],
   "source": [
    "# Concatenar cadenas\n",
    "print(a + \"!\")"
   ]
  },
  {
   "cell_type": "markdown",
   "metadata": {
    "id": "1zTNMWNjRhZW"
   },
   "source": [
    "Otras funcionalidades para los strings incluyen:"
   ]
  },
  {
   "cell_type": "code",
   "execution_count": null,
   "metadata": {
    "colab": {
     "base_uri": "https://localhost:8080/"
    },
    "id": "LA2sbfIfRnYi",
    "outputId": "c6be64c1-3f41-4b2c-c3c7-c60c43be26c0"
   },
   "outputs": [],
   "source": [
    "# Mayúsculas y minúsculas\n",
    "print(a.upper())\n",
    "print(a.lower())"
   ]
  },
  {
   "cell_type": "code",
   "execution_count": null,
   "metadata": {},
   "outputs": [],
   "source": [
    "# Verificar si las letras de una palabra son mayúsculas o minúsculas\n",
    "for letra in a:\n",
    "    print(letra.isupper()) # verifica mayúsculas"
   ]
  },
  {
   "cell_type": "code",
   "execution_count": null,
   "metadata": {},
   "outputs": [],
   "source": [
    "# Verifica si una cadena está compuesta por números\n",
    "print(a.isdigit())\n",
    "numero = '123'\n",
    "print(numero.isdigit())\n",
    "numero = '123a'\n",
    "print(numero.isdigit())"
   ]
  },
  {
   "cell_type": "code",
   "execution_count": null,
   "metadata": {
    "colab": {
     "base_uri": "https://localhost:8080/",
     "height": 36
    },
    "id": "9x4omj60SVT8",
    "outputId": "bfba3d7b-1386-46db-c85d-335d64c44b06"
   },
   "outputs": [],
   "source": [
    "# Reemplazar strings\n",
    "a.replace('mundo', 'planeta')"
   ]
  },
  {
   "cell_type": "code",
   "execution_count": null,
   "metadata": {
    "colab": {
     "base_uri": "https://localhost:8080/"
    },
    "id": "2XI-95Cgfp6G",
    "outputId": "8c9fe7fe-8e68-4b00-dabe-0868a277fd71"
   },
   "outputs": [],
   "source": [
    "# Verificar si los strings comienzan o terminan con un string determinado\n",
    "print(a.startswith(\"Hola\"))\n",
    "print(a.endswith(\"mundo!\"))"
   ]
  },
  {
   "cell_type": "code",
   "execution_count": null,
   "metadata": {
    "colab": {
     "base_uri": "https://localhost:8080/",
     "height": 36
    },
    "id": "vs2SqRC0UW8R",
    "outputId": "f550d3f5-e4da-4c6e-b50b-ca86d94f64de"
   },
   "outputs": [],
   "source": [
    "# Limpieza: Eliminar espacios innecesarios\n",
    "a = ' Mundo, hola '\n",
    "a.strip()"
   ]
  },
  {
   "cell_type": "code",
   "execution_count": null,
   "metadata": {
    "colab": {
     "base_uri": "https://localhost:8080/"
    },
    "id": "PPwa6kGbUqZp",
    "outputId": "cc17dadf-79d4-4aec-bbfd-0e00c0a167d5"
   },
   "outputs": [],
   "source": [
    "# Separar strings por un caracter\n",
    "a.split(\",\")"
   ]
  },
  {
   "cell_type": "markdown",
   "metadata": {
    "id": "AHxsLyIBb0zT"
   },
   "source": [
    "Podemos generar strings en función a valores de variables mediante el método `format`."
   ]
  },
  {
   "cell_type": "code",
   "execution_count": null,
   "metadata": {
    "colab": {
     "base_uri": "https://localhost:8080/"
    },
    "id": "WZZW3FhMbzkn",
    "outputId": "aeaeecdb-e5d2-44cf-a119-9fab38bd1498"
   },
   "outputs": [],
   "source": [
    "# Una oración que tome el nombre y edad de una persona.\n",
    "oracion = \"Mi nombre es {} y tengo {} años\"\n",
    "print(\"Introduzca su nombre\")\n",
    "nombre = input()\n",
    "print(\"Introduzca su edad\")\n",
    "edad = input()\n",
    "oracion = oracion.format(nombre, edad)\n",
    "print(oracion)"
   ]
  },
  {
   "cell_type": "markdown",
   "metadata": {
    "id": "MODCpdl4dfsK"
   },
   "source": [
    "Existen algunos caracteres que nos pueden generar problemas al ser incluidos un string, como ser `'` (puesto que también sirve para definir un string). Para solucionar estos problemas usamos `\\` antes del caracter problemático (caracter de escape)."
   ]
  },
  {
   "cell_type": "code",
   "execution_count": null,
   "metadata": {
    "colab": {
     "base_uri": "https://localhost:8080/",
     "height": 139
    },
    "id": "w1Py7rS7fA49",
    "outputId": "85689abf-349c-4ee4-a101-fe59e424a7d8"
   },
   "outputs": [],
   "source": [
    "# Error\n",
    "print('I'm Python')"
   ]
  },
  {
   "cell_type": "code",
   "execution_count": null,
   "metadata": {
    "colab": {
     "base_uri": "https://localhost:8080/"
    },
    "id": "EROigf7Hd9pq",
    "outputId": "4f5100f0-23ce-48d3-c651-08f1cc077fae"
   },
   "outputs": [],
   "source": [
    "# Sin error\n",
    "print('I\\'m Python')"
   ]
  },
  {
   "cell_type": "markdown",
   "metadata": {},
   "source": [
    "### 2.7. MANIPULACIÓN DE ARCHIVOS\n",
    "\n",
    "La función más importante para trabajar con archivos en Python es `open` (para abrir datasets existen otras pero las veremos más adealante). La función puede trabajar con cuatro objetivos: \n",
    "\n",
    "* `r` para leer (read), es el default.\n",
    "* `a` para adjuntar.\n",
    "* `w` para escribir (si el archivo existe, lo sobreescribe).\n",
    "* `x` para crear.\n",
    "\n",
    "Adicionalmente se puede especificar el tipo de archivo.\n",
    "\n",
    "* `t` para texto, es el default.\n",
    "* `b` para archivos más complejos (binario).\n",
    "\n",
    "Probemos."
   ]
  },
  {
   "cell_type": "code",
   "execution_count": null,
   "metadata": {},
   "outputs": [],
   "source": [
    "# Abrimos un archivo\n",
    "archivo = open('C:\\Mickey\\pro\\docencia\\Curso Programación en Python\\prueba.txt')\n",
    "\n",
    "# Daría lo mismo que especifiquemos el modo de la función y el tipo de archivo con \"rt\"\n",
    "archivo = open('C:\\Mickey\\pro\\docencia\\Curso Programación en Python\\prueba.txt', 'rt')"
   ]
  },
  {
   "cell_type": "markdown",
   "metadata": {},
   "source": [
    "Para ver que hay dentro del archivo necesitamos el método `read`."
   ]
  },
  {
   "cell_type": "code",
   "execution_count": null,
   "metadata": {},
   "outputs": [],
   "source": [
    "print(archivo.read())"
   ]
  },
  {
   "cell_type": "markdown",
   "metadata": {},
   "source": [
    "Podemos modificarlo con append o write, probemos con append, siempre es buena práctica cerrar el archivo al terminar de modificarlo con el método `close`."
   ]
  },
  {
   "cell_type": "code",
   "execution_count": null,
   "metadata": {},
   "outputs": [],
   "source": [
    "archivo = open('C:\\Mickey\\pro\\docencia\\Curso Programación en Python\\prueba.txt', 'a')\n",
    "archivo.write('\\nYa lo probamos')\n",
    "archivo.close()"
   ]
  },
  {
   "cell_type": "code",
   "execution_count": null,
   "metadata": {},
   "outputs": [],
   "source": [
    "# Verificamos si funcionó\n",
    "archivo = open('C:\\Mickey\\pro\\docencia\\Curso Programación en Python\\prueba.txt')\n",
    "print(archivo.read())"
   ]
  },
  {
   "cell_type": "markdown",
   "metadata": {},
   "source": [
    "También podemos eliminar archivos, probemos creando y eliminando un archivo. Necesitaremos la librería `os`. "
   ]
  },
  {
   "cell_type": "code",
   "execution_count": null,
   "metadata": {},
   "outputs": [],
   "source": [
    "# Importamos la librería\n",
    "import os\n",
    "\n",
    "# Creamos un archivo \"prueba2\"\n",
    "archivo2 = open('C:\\Mickey\\pro\\docencia\\Curso Programación en Python\\prueba2.txt', 'x')\n",
    "archivo2.write('prueba2')\n",
    "archivo2.close()\n",
    "\n",
    "archivo2 = open('C:\\Mickey\\pro\\docencia\\Curso Programación en Python\\prueba2.txt')\n",
    "print(archivo2.read())\n",
    "archivo2.close() # si no lo cerramos no se podrá borrar\n",
    "\n",
    "# Lo eliminamos\n",
    "os.remove('C:\\Mickey\\pro\\docencia\\Curso Programación en Python\\prueba2.txt')\n",
    "\n",
    "# Comprobamos que no existe\n",
    "os.path.exists('C:\\Mickey\\pro\\docencia\\Curso Programación en Python\\prueba2.txt')"
   ]
  },
  {
   "cell_type": "markdown",
   "metadata": {},
   "source": [
    "<div class=\"alert alert-block alert-info\">\n",
    "<b>Créditos</b><br>\n",
    "Autor: José Miguel Molina Fernández. <br>\n",
    "Otras fuentes: Se sigue de cerca la línea de contenido generado\n",
    "    por el Club de Ciencia de Datos Bolivia y W3Schools.\n",
    "</div>"
   ]
  }
 ],
 "metadata": {
  "colab": {
   "collapsed_sections": [
    "N0_sYjpuvlyO",
    "23VjovQAvlys"
   ],
   "name": "Otros aspectos introductorios.ipynb",
   "provenance": []
  },
  "kernelspec": {
   "display_name": "Python 3",
   "language": "python",
   "name": "python3"
  },
  "language_info": {
   "codemirror_mode": {
    "name": "ipython",
    "version": 3
   },
   "file_extension": ".py",
   "mimetype": "text/x-python",
   "name": "python",
   "nbconvert_exporter": "python",
   "pygments_lexer": "ipython3",
   "version": "3.8.8"
  }
 },
 "nbformat": 4,
 "nbformat_minor": 1
}
