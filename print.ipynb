{
 "cells": [
  {
   "cell_type": "markdown",
   "id": "be3e8e92",
   "metadata": {},
   "source": [
    "# PROGRAMACIÓN EN PYTHON\n",
    "## 2. OTROS ASPECTOS BÁSICOS\n",
    "\n",
    "## 2.1 FORMATOS Y ENTRADA DE DATOS\n",
    "\n",
    "### Formateo de salida de datos\n",
    "\n",
    "La instrucción `print` tiene argumentos extra para darle un formato a la salida.\n",
    "\n",
    "Para imprimir varias variables en una sóla línea, se separan las variables como argumento por una coma `,`, de esta manera las variables serán separadas por defecto por un espacio como en el ejemplo anterior.\n"
   ]
  },
  {
   "cell_type": "code",
   "execution_count": 1,
   "id": "32e6f7dc",
   "metadata": {},
   "outputs": [
    {
     "name": "stdout",
     "output_type": "stream",
     "text": [
      "12 13\n"
     ]
    }
   ],
   "source": [
    "print(12, 13)"
   ]
  },
  {
   "cell_type": "markdown",
   "id": "2c59506c",
   "metadata": {},
   "source": [
    "Para modificar la separación se puede enviar como argumento una cadena al argumento `sep` de la función `print` de la siguiente manera:\n",
    "```python\n",
    "print(var1, var2, ..., sep=separador)\n",
    "```"
   ]
  },
  {
   "cell_type": "code",
   "execution_count": 2,
   "id": "de97edcc",
   "metadata": {},
   "outputs": [
    {
     "name": "stdout",
     "output_type": "stream",
     "text": [
      "12 -> 13\n",
      "12, siguiente: 13\n"
     ]
    }
   ],
   "source": [
    "print(12, 13, sep=' -> ')\n",
    "print(12, 13, sep=', siguiente: ')"
   ]
  },
  {
   "cell_type": "markdown",
   "id": "50b230ff",
   "metadata": {},
   "source": [
    "La instrucción `print` agrega por defecto un salto de línea, es por esta razón que el siguiente print se muestra debajo del anterior, y también un `print()` sin argumentos agrega una línea vacía.\n",
    "\n",
    "Para modificar esta terminación, se envía una cadena al argumento `end`, que por defecto vale `\\n`, el caracter de control que representa un salto de línea (este caracter se imprime cuando presionamos la tecla `Enter`)."
   ]
  },
  {
   "cell_type": "code",
   "execution_count": 4,
   "id": "b11f9426",
   "metadata": {},
   "outputs": [
    {
     "name": "stdout",
     "output_type": "stream",
     "text": [
      "12 -> 13 siguiente línea: Nueva línea\n"
     ]
    }
   ],
   "source": [
    "print(12, 13, sep=' -> ', end=' siguiente línea: ')\n",
    "print('Nueva línea')"
   ]
  },
  {
   "cell_type": "code",
   "execution_count": null,
   "id": "268d14df",
   "metadata": {},
   "outputs": [],
   "source": []
  }
 ],
 "metadata": {
  "kernelspec": {
   "display_name": "Python 3",
   "language": "python",
   "name": "python3"
  },
  "language_info": {
   "codemirror_mode": {
    "name": "ipython",
    "version": 3
   },
   "file_extension": ".py",
   "mimetype": "text/x-python",
   "name": "python",
   "nbconvert_exporter": "python",
   "pygments_lexer": "ipython3",
   "version": "3.8.8"
  }
 },
 "nbformat": 4,
 "nbformat_minor": 5
}
