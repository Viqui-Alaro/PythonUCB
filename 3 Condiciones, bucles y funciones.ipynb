{
 "cells": [
  {
   "cell_type": "markdown",
   "metadata": {
    "id": "GR7xAF4nTzxp"
   },
   "source": [
    "# PROGRAMACIÓN EN PYTHON\n",
    "\n",
    "## 3. CONDICIONES, BUCLES Y FUNCIONES"
   ]
  },
  {
   "cell_type": "markdown",
   "metadata": {
    "id": "lC42kTJVTzyT"
   },
   "source": [
    "### 3.1. CONDICIONES\n",
    "\n",
    "Hasta ahora vimos cómo trabajar de manera secuencial, sin embargo, aparecen situaciones donde debemos comparar ciertos valores y condiciones lógicas para poder actuar acorde a cada caso, es así que se introduce el concepto de estructuras condicionales con la sentencia `if` y `else` de la forma:\n",
    "\n",
    "```python\n",
    "if condición:\n",
    "    # hacer algo si se cumple la condición\n",
    "else:\n",
    "    # hacer algo si no se cumple\n",
    "```\n",
    "\n",
    "Nótese que las instrucciones que están dentro de cada bloque condicional están indentadas 4 espacios, caso contrario, lo que esté fuera de la indentación se considerará como código fuera de los bloques condicionales.\n",
    "\n",
    "Python no tiene llaves {} para indicar bloques de código estructurado, por lo cual los niveles de indentación sirven este propósito."
   ]
  },
  {
   "cell_type": "markdown",
   "metadata": {
    "id": "R6OnL335Tzyj"
   },
   "source": [
    "**Ejemplo:** indicar si un número es par o no."
   ]
  },
  {
   "cell_type": "code",
   "execution_count": null,
   "metadata": {
    "id": "kFl9YKgKTzyk"
   },
   "outputs": [],
   "source": [
    "# Usando la comparación lógica de la anterior lección.\n",
    "\n",
    "a = int(input())\n",
    "\n",
    "if a % 2 == 0:\n",
    "    print('par')\n",
    "else:\n",
    "    print('impar')"
   ]
  },
  {
   "cell_type": "markdown",
   "metadata": {
    "id": "t_qeM3e32Ck3"
   },
   "source": [
    "Cuando hay varias condiciones asociadas a diferentes acciones, utilizamos `elif`. Pensarlo en español como la traducción de \"else if\" puede ayudar a la comprensión. No olvidar terminar con `else`."
   ]
  },
  {
   "cell_type": "markdown",
   "metadata": {
    "id": "ICB9fBHJTzyo"
   },
   "source": [
    "**Ejemplo:** dado un número representando un mes, indicar de manera textual a qué mes corresponde."
   ]
  },
  {
   "cell_type": "code",
   "execution_count": null,
   "metadata": {
    "id": "8zDTXj2MTzyp"
   },
   "outputs": [],
   "source": [
    "n = int(input())\n",
    "\n",
    "if n == 1:\n",
    "    print('Enero')\n",
    "elif n == 2:\n",
    "    print('Febrero')\n",
    "elif n == 3:\n",
    "    print('Marzo')\n",
    "elif n == 4:\n",
    "    print('Abril')\n",
    "elif n == 5:\n",
    "    print('Mayo')\n",
    "elif n == 6:\n",
    "    print('Junio')\n",
    "elif n == 7:\n",
    "    print('Julio')\n",
    "elif n == 8:\n",
    "    print('Agosto')\n",
    "elif n == 9:\n",
    "    print('Septiembre')\n",
    "elif n == 10:\n",
    "    print('Octubre')\n",
    "elif n == 11:\n",
    "    print('Noviembre')\n",
    "else:\n",
    "    print('Diciembre')"
   ]
  },
  {
   "cell_type": "markdown",
   "metadata": {
    "id": "2Yp7z-TYTzys"
   },
   "source": [
    "Notar que esta implementación es sub-óptima, por ejemplo se podría haber preparado un diccionario."
   ]
  },
  {
   "cell_type": "markdown",
   "metadata": {
    "id": "llz9v2eozC7d"
   },
   "source": [
    "#### **Guía de estilo**: Indentación\n",
    "\n",
    "La regla de los cuatro espacios de indentación utilizados para la condición `if` nos lleva a pensar en otros contextos donde debamos separar una instrucción en varias líneas.\n",
    "\n",
    "Ninguna línea de código debería superar los 79 caracteres.\n",
    "\n",
    "Para evitar esto podemos separar las líneas de una forma que mantenga legibilidad. Una forma aceptada por las guías de estilo es:"
   ]
  },
  {
   "cell_type": "code",
   "execution_count": null,
   "metadata": {
    "id": "nca801Tm0A6C"
   },
   "outputs": [],
   "source": [
    "# Forma incorrecta de definir un vector muy largo\n",
    "a = ['aaaaaaaaaaaaaaaaaaaaaaaaaaaaaaaaaaaaaaaaaaaaaaaaaaaaaaaaaaaaaaaa', 'aaaaaaaaaaaaaaaaaaaaaaaaaaaaaaaaaaaaaaaaaaaaaaaaaaaaa', 'aaaaaaaaaaaaaaaaaaaaaaaaaaaaaaaaaaaaaaaaaaaaaaa']\n",
    "\n",
    "# Forma correcta: alinear con delimitador de apertura (en este caso, paréntesis)\n",
    "a = ['aaaaaaaaaaaaaaaaaaaaaaaaaaaaaaaaaaaaaaaaaaaaaaaaaaaaaaaaaaaaaaaa',\n",
    "     'aaaaaaaaaaaaaaaaaaaaaaaaaaaaaaaaaaaaaaaaaaaaaaaaaaaaa',\n",
    "     'aaaaaaaaaaaaaaaaaaaaaaaaaaaaaaaaaaaaaaaaaaaaaaa']\n",
    "\n"
   ]
  },
  {
   "cell_type": "markdown",
   "metadata": {
    "id": "KcUA_6lxTzyu"
   },
   "source": [
    "#### **Condiciones múltiples**\n",
    "\n",
    "También podemos definir condicionales múltiples, por ejemplo uniendo las condiciones con conectivos lógicos `or` y `and`.\n",
    "\n",
    "**Ejemplo:** verificar si un número es múltiplo de 3 y 5"
   ]
  },
  {
   "cell_type": "code",
   "execution_count": null,
   "metadata": {
    "id": "ZE-bLIcgTzyv"
   },
   "outputs": [],
   "source": [
    "# Los paréntesis en condiciones no son necesarios, pero dan legibilidad\n",
    "# Vemos si un número es múltiplo de 3 y 5\n",
    "\n",
    "n = int(input())\n",
    "\n",
    "if (n%3 == 0) and (n%5 == 0):\n",
    "    print('Múltiplo de ambos')\n",
    "else:\n",
    "    print('No múltiplo')"
   ]
  },
  {
   "cell_type": "markdown",
   "metadata": {
    "id": "iwmkb1sP80hk"
   },
   "source": [
    "### 3.2. BUCLES (LOOPS)\n",
    "\n",
    "Otro de los conceptos básicos necesarios al programar son los bucles, debido a que usualmente se presentan casos donde debemos repetir una acción varias veces y no es conveniente escribir el mismo código `n` veces.\n",
    "\n",
    "Es debido a esta necesidad que se proponen las sentencias `for` y `while`."
   ]
  },
  {
   "cell_type": "markdown",
   "metadata": {
    "id": "GwcUMfur80hl"
   },
   "source": [
    "### For\n",
    "\n",
    "Es un bucle que nos permite iterar una acción a través de un rango. \n",
    "\n",
    "La sintaxis base de un bucle `for` es:\n",
    "\n",
    "```python\n",
    "for iterador in algun_rango:\n",
    "    # hacer algo varias veces\n",
    "```\n",
    "\n",
    "dónde la variable iterador (normalmente denotada por `i`) toma los valores del rango de iteración.\n",
    "\n",
    "El rango se puede especificar de 3 formas distintas usando la función `range`:\n",
    "```python\n",
    "range(n) # iteramos desde 0 hasta n-1.\n",
    "```\n",
    "\n",
    "```python\n",
    "range(a, b) # iteramos desde a hasta b-1.\n",
    "```\n",
    "\n",
    "```python\n",
    "range(a, b, s) # iteramos desde a hasta b-1 saltando de s en s pasos.\n",
    "```\n"
   ]
  },
  {
   "cell_type": "markdown",
   "metadata": {
    "id": "RGIyzbc680hl"
   },
   "source": [
    "**Ejemplo:** Imprimir los números del 1 al 10"
   ]
  },
  {
   "cell_type": "code",
   "execution_count": null,
   "metadata": {
    "id": "A7AZJmN980hm"
   },
   "outputs": [],
   "source": [
    "for i in range(1, 11):\n",
    "    print(i)"
   ]
  },
  {
   "cell_type": "markdown",
   "metadata": {
    "id": "BKmwwvW-80hs"
   },
   "source": [
    "**Ejemplo:** imprimir los números pares del 0 al 20"
   ]
  },
  {
   "cell_type": "code",
   "execution_count": null,
   "metadata": {
    "id": "-W_fUW5A80ht"
   },
   "outputs": [],
   "source": [
    "# Forma 1\n",
    "\n",
    "for i in range(21):\n",
    "    if i % 2 == 0:\n",
    "        print(i)"
   ]
  },
  {
   "cell_type": "code",
   "execution_count": null,
   "metadata": {
    "id": "Kc7booae80hx"
   },
   "outputs": [],
   "source": [
    "# Forma 2\n",
    "\n",
    "for i in range(0, 21, 2):\n",
    "    print(i)"
   ]
  },
  {
   "cell_type": "markdown",
   "metadata": {},
   "source": [
    "Podemos detener un bucle o saltarnos un elemento del rango al cumplirse cierta condición con las instrucciones `break` y `continue`. "
   ]
  },
  {
   "cell_type": "code",
   "execution_count": 2,
   "metadata": {},
   "outputs": [
    {
     "name": "stdout",
     "output_type": "stream",
     "text": [
      "1\n",
      "2\n",
      "3\n"
     ]
    }
   ],
   "source": [
    "# Uso de break\n",
    "for i in range(1, 11):\n",
    "    if i == 4:\n",
    "        break\n",
    "    print(i)"
   ]
  },
  {
   "cell_type": "markdown",
   "metadata": {},
   "source": [
    "¿Qué pasaría si pusiera la instrucción `break` antes de `print`?"
   ]
  },
  {
   "cell_type": "code",
   "execution_count": 3,
   "metadata": {},
   "outputs": [
    {
     "name": "stdout",
     "output_type": "stream",
     "text": [
      "1\n",
      "2\n",
      "3\n",
      "5\n",
      "6\n",
      "7\n",
      "8\n",
      "9\n",
      "10\n"
     ]
    }
   ],
   "source": [
    "# Uso de continue\n",
    "for i in range(1, 11):\n",
    "    if i == 4:\n",
    "        continue\n",
    "    print(i)"
   ]
  },
  {
   "cell_type": "markdown",
   "metadata": {},
   "source": [
    "**Ejemplo**: Fruity loops"
   ]
  },
  {
   "cell_type": "code",
   "execution_count": 4,
   "metadata": {},
   "outputs": [
    {
     "name": "stdout",
     "output_type": "stream",
     "text": [
      "[7, 9, 4]\n"
     ]
    }
   ],
   "source": [
    "# Guardamos en una lista el largo de cadenas de una lista\n",
    "frutas = ['platano', 'mandarina', 'pera']\n",
    "largo_frutas = []\n",
    "for x in frutas:\n",
    "    largo_frutas.append(len(x))\n",
    "print(largo_frutas)"
   ]
  },
  {
   "cell_type": "code",
   "execution_count": 5,
   "metadata": {},
   "outputs": [
    {
     "name": "stdout",
     "output_type": "stream",
     "text": [
      "P\n",
      "E\n",
      "R\n",
      "A\n"
     ]
    }
   ],
   "source": [
    "# Se pueden hacer looops sobre cadenas\n",
    "for x in frutas[2]:\n",
    "    print(x.upper())"
   ]
  },
  {
   "cell_type": "code",
   "execution_count": 6,
   "metadata": {
    "scrolled": true
   },
   "outputs": [
    {
     "name": "stdout",
     "output_type": "stream",
     "text": [
      "a\n",
      "a\n",
      "o\n",
      "a\n",
      "a\n",
      "i\n",
      "a\n",
      "e\n",
      "a\n"
     ]
    }
   ],
   "source": [
    "# Se pueden hacer loops sobre loops\n",
    "for x in frutas:\n",
    "    for i in x:\n",
    "        if i in \"aeiou\":\n",
    "            print(i)"
   ]
  },
  {
   "cell_type": "markdown",
   "metadata": {
    "id": "l_uAIEIX80h9"
   },
   "source": [
    "### While\n",
    "\n",
    "Cuando no queremos iterar un rango estático, sino que queremos basar nuestra iteración en alguna condición lógica, usamos un bucle `while`, que se entiende como: \"*mientras se cumple la condición, iterar*\".\n",
    "\n",
    "La sintaxis es:\n",
    "```python\n",
    "while condicion:\n",
    "    # hacer algo mientras se cumpla\n",
    "```\n",
    "\n",
    "Debemos tener mucho cuidado, ya que si es que no controlamos bien la condición, puede darse el caso que entremos en un bucle infinito."
   ]
  },
  {
   "cell_type": "markdown",
   "metadata": {
    "id": "dWQrIEpB80h-"
   },
   "source": [
    "**Ejemplo:** imprimir los números pares del 0 al 20 de las dos formas con un bucle while."
   ]
  },
  {
   "cell_type": "code",
   "execution_count": 8,
   "metadata": {
    "id": "0vdDCJbb80h_"
   },
   "outputs": [
    {
     "ename": "SyntaxError",
     "evalue": "invalid syntax (<ipython-input-8-ca4ad196c86c>, line 8)",
     "output_type": "error",
     "traceback": [
      "\u001b[1;36m  File \u001b[1;32m\"<ipython-input-8-ca4ad196c86c>\"\u001b[1;36m, line \u001b[1;32m8\u001b[0m\n\u001b[1;33m    i++ # Olvidar esta línea generaría un bucle infinito!\u001b[0m\n\u001b[1;37m        ^\u001b[0m\n\u001b[1;31mSyntaxError\u001b[0m\u001b[1;31m:\u001b[0m invalid syntax\n"
     ]
    }
   ],
   "source": [
    "# Forma 1\n",
    "i = 0\n",
    "n = 20\n",
    "\n",
    "while i <= n:\n",
    "    if i % 2 == 0:\n",
    "        print(i)        \n",
    "    i += 1 # Olvidar esta línea generaría un bucle infinito!"
   ]
  },
  {
   "cell_type": "code",
   "execution_count": null,
   "metadata": {
    "id": "hZBh4lkC80iE"
   },
   "outputs": [],
   "source": [
    "# Forma 2\n",
    "\n",
    "i = 0\n",
    "n = 20\n",
    "\n",
    "while i <= n:\n",
    "    print(i)    \n",
    "    i += 2"
   ]
  },
  {
   "cell_type": "markdown",
   "metadata": {
    "id": "mWXXTw2t80iR"
   },
   "source": [
    "de esta manera obtenemos un binario invertido."
   ]
  },
  {
   "cell_type": "markdown",
   "metadata": {},
   "source": [
    "Las instrucciones `break` y `continue` también se pueden usar en bucles while."
   ]
  },
  {
   "cell_type": "markdown",
   "metadata": {},
   "source": [
    "### Comprensión de listas\n",
    "\n",
    "A veces podemos querer generar listas con bucles, pero el código puede ser más rápido y compacto si es que aprovechamos la comprensión de listas. Un ejemplo de uso sería el siguiente.\n",
    "\n",
    "**Ejemplo**: Secuencia de cuadrados de los números del 1 al 20."
   ]
  },
  {
   "cell_type": "code",
   "execution_count": null,
   "metadata": {},
   "outputs": [],
   "source": [
    "# Solucion mediante bucles\n",
    "quad=[]\n",
    "for i in range(0,20):\n",
    "    quad.append(i**2)\n",
    "print(quad)\n",
    "    \n",
    "# Solución mediante comprensión de listas\n",
    "quad = [i**2 for i in range(0,20)]\n",
    "print(quad)"
   ]
  },
  {
   "cell_type": "markdown",
   "metadata": {},
   "source": [
    "Incluso podemos incluir condiciones dentro de una comprensión de listas.\n",
    "\n",
    "**Ejemplo:** Secuencia de cuadrados de los números pares del 1 al 20."
   ]
  },
  {
   "cell_type": "code",
   "execution_count": null,
   "metadata": {},
   "outputs": [],
   "source": [
    "# Añadimos la condición de pares\n",
    "quad = [i**2 for i in range(0,20) if i%2==0]   \n",
    "print(quad)"
   ]
  },
  {
   "cell_type": "markdown",
   "metadata": {
    "id": "dNYr2S1RalP-"
   },
   "source": [
    "### 3.3 FUNCIONES\n",
    "\n",
    "Una función es un bloque de líneas de código con un nombre asignado, que realiza una tarea específica. Recibe una entrada por argumentos, ejecuta instrucciones de código para esa entrada de manera encapsulada, y retorna un resultado. Puede ser muy útil para ahorrar líneas de código en tareas repetitivas en un proceso.\n",
    "\n",
    "Para comprenderla, puede servir pensar en una función matemática común para $y = f(x)$...la derivada:\n",
    "\n",
    "$y' = \\frac{dy}{{dx}} = \\mathop {\\lim }\\limits_{\\Delta \\to 0} \\frac{{f\\left( {x + \\Delta } \\right) - f\\left( x \\right)}}{\\Delta }$. \n",
    "\n",
    "Gracias a que tenemos la expresión $y'$ podemos ahorrarnos el tener que escribir toda la operación una y otra vez. Algo similar sucede con las funciones en programación. Hacen al código más compacto.\n",
    "\n",
    "La estructura de una función es:\n",
    "\n",
    "```python\n",
    "def funcion(x):\n",
    "    # código que manipula x\n",
    "    return resultado\n",
    "```\n",
    "\n",
    "y se la utiliza o invoca mediante su nombre y argumentos\n",
    "\n",
    "```python\n",
    "res = funcion(args)\n",
    "```"
   ]
  },
  {
   "cell_type": "markdown",
   "metadata": {
    "id": "8jV9jQsTalP_"
   },
   "source": [
    "### Argumentos\n",
    "\n",
    "Son valores de entrada que se le envían a una función al ser invocada, estos valores se pueden enviar directamente sin nombrar a cuál argumento pertenecen, o nombrándose.\n",
    "\n",
    "Por ejemplo, si la función `f` tiene la siguiente forma\n",
    "\n",
    "```python\n",
    "def f(arg1, arg2, arg3):\n",
    "    # procesar\n",
    "    return resultado\n",
    "```\n",
    "\n",
    "Si la invocamos como:\n",
    "\n",
    "```python\n",
    "res = f(a, b, c)\n",
    "```\n",
    "\n",
    "los valores se asignan como `arg1 = a, arg2 = b, arg3 = c`\n",
    "\n",
    "pero si nombramos a qué argumento corresponde cada variable, podemos invocarla como:\n",
    "\n",
    "```python\n",
    "res = f(arg2=a, arg3=b, arg1=c)\n",
    "```\n",
    "\n",
    "de esta manera los valores se asignan como `arg2 = a, arg3 = b, arg1 = c`"
   ]
  },
  {
   "cell_type": "markdown",
   "metadata": {
    "id": "F2GjC7IQalQA"
   },
   "source": [
    "### Valores de retorno\n",
    "\n",
    "Una función retorna un valor resultante de todo el proceso realizado, para retornar este valor, se usa la palabra reservada\n",
    "\n",
    "```python\n",
    "return\n",
    "```"
   ]
  },
  {
   "cell_type": "markdown",
   "metadata": {
    "id": "IVwoiCZaalQB"
   },
   "source": [
    "**Ejemplo:** Calcular la suma de dos números."
   ]
  },
  {
   "cell_type": "code",
   "execution_count": null,
   "metadata": {
    "id": "-pWlSIVtalQC"
   },
   "outputs": [],
   "source": [
    "def suma(a, b):\n",
    "    return a + b"
   ]
  },
  {
   "cell_type": "code",
   "execution_count": null,
   "metadata": {
    "id": "byifLlNLalQH"
   },
   "outputs": [],
   "source": [
    "print(suma(2, 5))"
   ]
  },
  {
   "cell_type": "markdown",
   "metadata": {
    "id": "5OUgo00FalQL"
   },
   "source": [
    "Es una buena práctica definir el tipo de dato de los argumentos y del retorno, para mejor comprensión de las funciones. La función `suma` se reescribiría como:\n",
    "\n",
    "```python\n",
    "def suma(a: float, b: float) -> float:\n",
    "    return a + b\n",
    "```\n",
    "No es necesario, pero puede usarse en función al nivel de importancia del proyecto con el que se este trabajando y cuántas personas usarán la función en el futuro.\n",
    "\n",
    "Nótese que no es necesario asignar el resultado de la suma a una variable, ya que la instrucción `return` devolverá el resultado de la expresión ya evaluada."
   ]
  },
  {
   "cell_type": "markdown",
   "metadata": {},
   "source": [
    "### Otras herramientas para funciones"
   ]
  },
  {
   "cell_type": "markdown",
   "metadata": {},
   "source": [
    "En ocasiones, nos puede interesar que los argumentos tengan un valor predeterminado; es decir, que si el usuario no los proporciona se usen automáticamente. En esos casos proporcionamos el valor en la definición de la función."
   ]
  },
  {
   "cell_type": "code",
   "execution_count": null,
   "metadata": {},
   "outputs": [],
   "source": [
    "# Creamos la función\n",
    "def saludar(nombre=\"mundo\"):\n",
    "    print('Hola', nombre)\n",
    "\n",
    "# Resultado\n",
    "saludar(\"Marcela\")\n",
    "saludar()"
   ]
  },
  {
   "cell_type": "markdown",
   "metadata": {},
   "source": [
    "Existen situaciones en las que no sabemos cuántos argumentos recibirá la función, caso de \"argumentos arbitrarios\" en el que podemos utilizar `*` al definir los argumentos de entrada.\n",
    "\n",
    "Nótese también que en el siguiente ejemplo no utilizamos `return`, Python \"retorna\" el último valor implícitamente."
   ]
  },
  {
   "cell_type": "code",
   "execution_count": null,
   "metadata": {},
   "outputs": [],
   "source": [
    "# Creamos la función\n",
    "def saludar(*nombres):\n",
    "    for nombre in nombres:\n",
    "        print('Hola', nombre)\n",
    "\n",
    "# Resultado\n",
    "saludar('Juan', 'Rosa', 'Ana')"
   ]
  },
  {
   "cell_type": "markdown",
   "metadata": {},
   "source": [
    "#### Guía de estilo: Signos de igual en definición de funciones\n",
    "\n",
    "Al usar un signo de igualdad al declarar los argumentos de una función, por ejemplo al poner un valor predeterminado a algún argumento, no se deben usar espacios."
   ]
  },
  {
   "cell_type": "code",
   "execution_count": null,
   "metadata": {},
   "outputs": [],
   "source": [
    "# Correcto\n",
    "def saludar(nombre=\"mundo\"):\n",
    "    print('Hola', nombre)\n",
    "    \n",
    "# Incorrecto\n",
    "def saludar(nombre = \"mundo\"):\n",
    "    print('Hola', nombre)"
   ]
  },
  {
   "cell_type": "markdown",
   "metadata": {},
   "source": [
    "### Recursión\n",
    "\n",
    "Una función se puede usar dentro de sí misma."
   ]
  },
  {
   "cell_type": "code",
   "execution_count": null,
   "metadata": {},
   "outputs": [],
   "source": [
    "# Creamos una función para calcular el factorial\n",
    "def factorial(x):\n",
    "    if (x == 1) | (x == 0):\n",
    "        return 1\n",
    "    else:\n",
    "        return (x * factorial(x-1))\n",
    "\n",
    "print(factorial(3))"
   ]
  },
  {
   "cell_type": "markdown",
   "metadata": {},
   "source": [
    "Mmmmm, ¿y qué pasa si hago esto?"
   ]
  },
  {
   "cell_type": "code",
   "execution_count": null,
   "metadata": {},
   "outputs": [],
   "source": [
    "print(factorial(-1))"
   ]
  },
  {
   "cell_type": "markdown",
   "metadata": {},
   "source": [
    "### Mensajes de error\n",
    "\n",
    "En el caso del factorial, este solo está definido para valores mayores o iguales a cero. Por tanto desearíamos que el usuario proporcione un número en ese rango, y caso contrario advertirle sobre el tipo de número que debe proporcionar.\n",
    "\n",
    "Corrijamos la función de factorial."
   ]
  },
  {
   "cell_type": "code",
   "execution_count": null,
   "metadata": {},
   "outputs": [],
   "source": [
    "# Corregimos la función para calcular el factorial\n",
    "def factorial(x):\n",
    "    if (x < 0):\n",
    "        raise ValueError('Por favor proporcione un valor mayor o igual a cero.')    \n",
    "    if (x == 1) | (x == 0):\n",
    "        return 1\n",
    "    else:\n",
    "        return (x * factorial(x-1))"
   ]
  },
  {
   "cell_type": "code",
   "execution_count": null,
   "metadata": {},
   "outputs": [],
   "source": [
    "factorial(-1)"
   ]
  },
  {
   "cell_type": "markdown",
   "metadata": {},
   "source": [
    "El `ValueError` se usa en casos en los que el tipo de dato proporcionado por el usuario es correcto, pero el valor no. Si el usuario proporciona un tipo de dato que no sea entero a la función `factorial`, podríamos emitir un `TypeError` (que se usa cuando el usuario envía un tipo de dato incorrecto). ¿Lo intentamos? (5 pts.). A continuación la **solución correcta**:"
   ]
  },
  {
   "cell_type": "code",
   "execution_count": 29,
   "metadata": {},
   "outputs": [],
   "source": [
    "# Corregimos la función para calcular el factorial\n",
    "def factorial(x):\n",
    "    if type(x) != int:\n",
    "        raise TypeError('Por favor proporcione un número entero')   \n",
    "    if (x < 0):\n",
    "        raise ValueError('Por favor proporcione un valor mayor o igual a cero.')    \n",
    "    if (x == 1) | (x == 0):\n",
    "        return 1\n",
    "    else:\n",
    "        return (x * factorial(x-1))"
   ]
  },
  {
   "cell_type": "markdown",
   "metadata": {},
   "source": [
    "La lista completa de errores que se pueden emitir está en la documentación de Python https://docs.python.org/3/library/exceptions.html. Puede ser útil consultar la documentación del lenguaje en https://docs.python.org/3/ para todo tipo de problemas y profundizar conocimientos."
   ]
  },
  {
   "cell_type": "markdown",
   "metadata": {
    "id": "7O_I6cI5alQc"
   },
   "source": [
    "### 3.4. MAP, LISTAS DE FUNCIONES Y FUNCIONES LAMBDA\n",
    "\n",
    "\n",
    "### Map\n",
    "\n",
    "A veces escribir bucles puede hacer que i) se usen más líneas de código que las necesarias, ii) que el código sea más difícil de entender, o iii) que el código sea más lento.\n",
    "\n",
    "En estos casos podemos a recurrir a opciones como `map`. "
   ]
  },
  {
   "cell_type": "markdown",
   "metadata": {
    "id": "zyCgirkcalQd"
   },
   "source": [
    "**Ejemplo:** Comparaciones de implementación para multiplicar por 2 los elementos de una lista."
   ]
  },
  {
   "cell_type": "code",
   "execution_count": null,
   "metadata": {},
   "outputs": [],
   "source": [
    "# Listas\n",
    "x = range(10)\n",
    "resultado = []\n",
    "\n",
    "# Multiplicamos por dos usando for loops\n",
    "for i in x:\n",
    "    resultado.append(i * 2)\n",
    "\n",
    "print(resultado)    "
   ]
  },
  {
   "cell_type": "code",
   "execution_count": null,
   "metadata": {},
   "outputs": [],
   "source": [
    "# Multiplicamos por dos usando map\n",
    "\n",
    "def duplicar(x):\n",
    "    return x * 2\n",
    "\n",
    "resultado2 = map(duplicar, x)\n",
    "print(list(resultado2))"
   ]
  },
  {
   "cell_type": "markdown",
   "metadata": {},
   "source": [
    "Noten que para imprimir tuvimos que utilizar la función `list`, esto se debe a que map retorna un objeto que no es una lista. \n",
    "\n",
    "Comparemos los tiempos de ejecución de las dos implementaciones, comenzando con el bucle for."
   ]
  },
  {
   "cell_type": "code",
   "execution_count": null,
   "metadata": {},
   "outputs": [],
   "source": [
    "resultado=[]"
   ]
  },
  {
   "cell_type": "code",
   "execution_count": null,
   "metadata": {},
   "outputs": [],
   "source": [
    "%%timeit\n",
    "for i in x:\n",
    "    resultado.append(i*2)"
   ]
  },
  {
   "cell_type": "markdown",
   "metadata": {},
   "source": [
    "Ahora veamos como le va a `map`"
   ]
  },
  {
   "cell_type": "code",
   "execution_count": null,
   "metadata": {
    "id": "-6NVRk3jalQe"
   },
   "outputs": [],
   "source": [
    "%%timeit\n",
    "resultado2 = map(duplicar, x)"
   ]
  },
  {
   "cell_type": "markdown",
   "metadata": {},
   "source": [
    "Vaya, casi 6 veces más rápido pese a que la tarea era pequeña. Ya se podrán imaginar como crece la brecha en implementaciones más grandes! También ocupa menos espacio en memoria."
   ]
  },
  {
   "cell_type": "markdown",
   "metadata": {},
   "source": [
    "### Listas de funciones\n",
    "\n",
    "Las funciones en Python son objetos y se pueden manipular como cualquier otro objeto: colocarse en listas o en diccionarios."
   ]
  },
  {
   "cell_type": "code",
   "execution_count": null,
   "metadata": {},
   "outputs": [],
   "source": [
    "# Definimos dos funciones y las ponemos en una lista\n",
    "def func1(x):\n",
    "    return x * 1\n",
    "def func2(x):\n",
    "    return x * 2\n",
    "funclist = [func1, func2]\n",
    "\n",
    "# Usamos comprensión de listas para evaluar ambas funciones respecto a un valor\n",
    "# Luego guardamos los valores en una lista\n",
    "func_evaluadas = [f(2) for f in funclist]\n",
    "print(func_evaluadas)\n"
   ]
  },
  {
   "cell_type": "markdown",
   "metadata": {},
   "source": [
    "### Funciones lambda\n",
    "\n",
    "La función `duplicar` que utilizamos para ejemplificar el uso de `map` es bastante simple, ¿realmente merece tener un nombre?  ¿o ocupar tanto espacio?\n",
    "\n",
    "En estos casos podemos utilizar funciones lambda, que son más compactas. Repitamos el ejercicio esta vez con una función lambda en vez de declarar una función con nombre. En una sola línea de código."
   ]
  },
  {
   "cell_type": "code",
   "execution_count": null,
   "metadata": {},
   "outputs": [],
   "source": [
    "# Implementación con funciones lambda\n",
    "print(x)\n",
    "resultado3 = map(lambda x: x * 2, x)\n",
    "print(list(resultado3))"
   ]
  },
  {
   "cell_type": "markdown",
   "metadata": {},
   "source": [
    "<div class=\"alert alert-block alert-info\">\n",
    "<b>Créditos</b><br>\n",
    "Autor: José Miguel Molina Fernández. <br>\n",
    "Otras fuentes: Se sigue de cerca la línea de contenido generado\n",
    "    por el Club de Ciencia de Datos Bolivia y W3Schools.\n",
    "</div>"
   ]
  }
 ],
 "metadata": {
  "kernelspec": {
   "display_name": "Python 3",
   "language": "python",
   "name": "python3"
  },
  "language_info": {
   "codemirror_mode": {
    "name": "ipython",
    "version": 3
   },
   "file_extension": ".py",
   "mimetype": "text/x-python",
   "name": "python",
   "nbconvert_exporter": "python",
   "pygments_lexer": "ipython3",
   "version": "3.8.8"
  }
 },
 "nbformat": 4,
 "nbformat_minor": 1
}
