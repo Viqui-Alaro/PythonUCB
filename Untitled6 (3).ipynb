{
 "cells": [
  {
   "cell_type": "code",
   "execution_count": 17,
   "id": "431ef314",
   "metadata": {},
   "outputs": [
    {
     "name": "stdout",
     "output_type": "stream",
     "text": [
      "782195\n"
     ]
    }
   ],
   "source": [
    "import IPython, random\n",
    "print(random.randint(1,1000000))\n",
    "assert IPython.version_info[0] >= 3, \"Actualice la versión de su editor de Notebooks\""
   ]
  },
  {
   "cell_type": "markdown",
   "id": "0f211697",
   "metadata": {},
   "source": [
    "## Pregunta 4 (20 puntos)\n",
    "\n",
    "Se le pide implementar una función que calcule la desviación estandar de los números de una lista. Sin embargo, se le pide que para lograrlo de una manera eficiente y concisa utilice la función  `map` y funciones lambda. Defina la función requerida. Así como en el anterior ejercicio **NO** debe utilizar librerías de Python que logran lo mismo con funciones como `numpy.std`, debe crear la función Usted mismo en vez de usar una función ya armada. Recuerde que la definición de la desviación estándar (poblacional) para una variable `x` es:\n",
    "\n",
    "$\\sqrt {\\frac{1}{N}\\sum\\limits_{i = 1}^N {\\left( {x_i - \\bar x} \\right)^2 } }$"
   ]
  },
  {
   "cell_type": "code",
   "execution_count": 37,
   "id": "409a8376",
   "metadata": {},
   "outputs": [],
   "source": [
    "def desviacion_estandar(x):\n",
    "    desviacion = 0  \n",
    "    resultado = sum(map(lambda y: (y - sum(x)/len(x))**2, x))\n",
    "    desviacion = (1 / len(x) * resultado)**0.5\n",
    "    return desviacion"
   ]
  },
  {
   "cell_type": "markdown",
   "id": "6d19ee54",
   "metadata": {},
   "source": [
    "Por ejemplo la desviación estándar de `[1,1,3,5,6]` debería ser 2.0396. Verifica si la funcion creada consigue el resultado:"
   ]
  },
  {
   "cell_type": "code",
   "execution_count": 38,
   "id": "ded07b45",
   "metadata": {},
   "outputs": [
    {
     "data": {
      "text/plain": [
       "2.039607805437114"
      ]
     },
     "execution_count": 38,
     "metadata": {},
     "output_type": "execute_result"
    }
   ],
   "source": [
    "desviacion_estandar([1,1,3,5,6])"
   ]
  },
  {
   "cell_type": "code",
   "execution_count": null,
   "id": "ad9a89fa",
   "metadata": {},
   "outputs": [],
   "source": []
  }
 ],
 "metadata": {
  "kernelspec": {
   "display_name": "Python 3",
   "language": "python",
   "name": "python3"
  },
  "language_info": {
   "codemirror_mode": {
    "name": "ipython",
    "version": 3
   },
   "file_extension": ".py",
   "mimetype": "text/x-python",
   "name": "python",
   "nbconvert_exporter": "python",
   "pygments_lexer": "ipython3",
   "version": "3.8.8"
  }
 },
 "nbformat": 4,
 "nbformat_minor": 5
}
