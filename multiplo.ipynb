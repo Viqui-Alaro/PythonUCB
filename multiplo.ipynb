{
 "cells": [
  {
   "cell_type": "code",
   "execution_count": 17,
   "id": "8e7a35e5",
   "metadata": {},
   "outputs": [
    {
     "name": "stdout",
     "output_type": "stream",
     "text": [
      "782195\n"
     ]
    }
   ],
   "source": [
    "import IPython, random\n",
    "print(random.randint(1,1000000))\n",
    "assert IPython.version_info[0] >= 3, \"Actualice la versión de su editor de Notebooks\""
   ]
  },
  {
   "cell_type": "markdown",
   "id": "22dc3982",
   "metadata": {},
   "source": [
    "## Problema 6 (10 puntos)\n",
    "\n",
    "Defina una función que retorne una lista con todos los múltiplos de 4 entre 0 y el valor definido por el usuario `x` (incluyendo `x` si es que fuera un múltiplo de 4)."
   ]
  },
  {
   "cell_type": "code",
   "execution_count": 64,
   "id": "93818c4b",
   "metadata": {},
   "outputs": [],
   "source": [
    "def multi_cuatro(x):\n",
    "    multiplo=[]\n",
    "    for i in range(0, x + 1):\n",
    "        if(i%4 == 0):\n",
    "            multiplo.append(i)\n",
    "    return(multiplo)   \n",
    "    raise NotImplementedError()"
   ]
  },
  {
   "cell_type": "markdown",
   "id": "271d5354",
   "metadata": {},
   "source": [
    "Por ejemplo, los múltiplos de cuatro entre el 0 el 12 son `[0, 4, 8, 12]`. Veamos si la función que hemos creado arroja este resultado."
   ]
  },
  {
   "cell_type": "code",
   "execution_count": 65,
   "id": "ba1360c1",
   "metadata": {},
   "outputs": [
    {
     "data": {
      "text/plain": [
       "[0, 4, 8, 12]"
      ]
     },
     "execution_count": 65,
     "metadata": {},
     "output_type": "execute_result"
    }
   ],
   "source": [
    "multi_cuatro(12)"
   ]
  },
  {
   "cell_type": "code",
   "execution_count": null,
   "id": "854e5584",
   "metadata": {},
   "outputs": [],
   "source": []
  }
 ],
 "metadata": {
  "kernelspec": {
   "display_name": "Python 3",
   "language": "python",
   "name": "python3"
  },
  "language_info": {
   "codemirror_mode": {
    "name": "ipython",
    "version": 3
   },
   "file_extension": ".py",
   "mimetype": "text/x-python",
   "name": "python",
   "nbconvert_exporter": "python",
   "pygments_lexer": "ipython3",
   "version": "3.8.8"
  }
 },
 "nbformat": 4,
 "nbformat_minor": 5
}
