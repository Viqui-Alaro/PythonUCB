{
 "cells": [
  {
   "cell_type": "markdown",
   "id": "cc0e8ad2",
   "metadata": {},
   "source": [
    "Pregunta 2 (5 puntos)\n",
    "Usando la función cuadrados, escriba una función que retorne la suma de los cuadrados de 1 hasta  𝑛  (usar la función cuadrados no es necesario, pero es la forma más rápido de conseguirlo)."
   ]
  },
  {
   "cell_type": "code",
   "execution_count": 17,
   "id": "ec724c62",
   "metadata": {},
   "outputs": [
    {
     "name": "stdout",
     "output_type": "stream",
     "text": [
      "782195\n"
     ]
    }
   ],
   "source": [
    "import IPython, random\n",
    "print(random.randint(1,1000000))\n",
    "assert IPython.version_info[0] >= 3, \"Actualice la versión de su editor de Notebooks\""
   ]
  },
  {
   "cell_type": "code",
   "execution_count": 30,
   "id": "da7cebb1",
   "metadata": {},
   "outputs": [],
   "source": [
    "def suma_cuadrados(n): \n",
    "    if(n<1):\n",
    "        raise ValueError(\"Ingrese mayor o igual a 1\")\n",
    "    suma = 0\n",
    "    for i in range(1, n + 1):\n",
    "        suma=suma+i**2\n",
    "    return suma\n",
    "    raise NotImplementedError()   "
   ]
  },
  {
   "cell_type": "markdown",
   "id": "db87f6da",
   "metadata": {},
   "source": [
    "La suma de los cuadrados del 1 al 10 debería ser 385. Verifique si la función que ha definido consigue ese resultado:"
   ]
  },
  {
   "cell_type": "code",
   "execution_count": 29,
   "id": "0181711c",
   "metadata": {},
   "outputs": [
    {
     "data": {
      "text/plain": [
       "385"
      ]
     },
     "execution_count": 29,
     "metadata": {},
     "output_type": "execute_result"
    }
   ],
   "source": [
    "suma_cuadrados(10)"
   ]
  },
  {
   "cell_type": "code",
   "execution_count": null,
   "id": "713da1f6",
   "metadata": {},
   "outputs": [],
   "source": []
  }
 ],
 "metadata": {
  "kernelspec": {
   "display_name": "Python 3",
   "language": "python",
   "name": "python3"
  },
  "language_info": {
   "codemirror_mode": {
    "name": "ipython",
    "version": 3
   },
   "file_extension": ".py",
   "mimetype": "text/x-python",
   "name": "python",
   "nbconvert_exporter": "python",
   "pygments_lexer": "ipython3",
   "version": "3.8.8"
  }
 },
 "nbformat": 4,
 "nbformat_minor": 5
}
