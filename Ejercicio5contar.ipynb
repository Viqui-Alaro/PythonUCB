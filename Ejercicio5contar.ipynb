{
 "cells": [
  {
   "cell_type": "code",
   "execution_count": 17,
   "id": "e06630bc",
   "metadata": {},
   "outputs": [
    {
     "name": "stdout",
     "output_type": "stream",
     "text": [
      "782195\n"
     ]
    }
   ],
   "source": [
    "import IPython, random\n",
    "print(random.randint(1,1000000))\n",
    "assert IPython.version_info[0] >= 3, \"Actualice la versión de su editor de Notebooks\""
   ]
  },
  {
   "cell_type": "markdown",
   "id": "325374bc",
   "metadata": {},
   "source": [
    "## Pregunta 5 (10 puntos)\n",
    "\n",
    "Defina una función llamada `contar_es` que cuente el número de veces que aparece la letra \"e\" en una cadena/string (cuidado con los acentos y mayúsculas). "
   ]
  },
  {
   "cell_type": "code",
   "execution_count": 49,
   "id": "f6a778fd",
   "metadata": {},
   "outputs": [],
   "source": [
    "def contar_es(x):\n",
    "    suma=0\n",
    "    for letra in x:\n",
    "        if(letra==\"e\"):\n",
    "            suma=suma+1\n",
    "    return(suma)    \n",
    "    raise NotImplementedError()"
   ]
  },
  {
   "cell_type": "markdown",
   "id": "5c2f4008",
   "metadata": {},
   "source": [
    "Por ejemplo, la palabra abecedario tiene dos letras \"e\". Veamos si el resultado es 2 en nuestra función."
   ]
  },
  {
   "cell_type": "code",
   "execution_count": 50,
   "id": "651495f7",
   "metadata": {},
   "outputs": [
    {
     "data": {
      "text/plain": [
       "2"
      ]
     },
     "execution_count": 50,
     "metadata": {},
     "output_type": "execute_result"
    }
   ],
   "source": [
    "contar_es('abecedario')"
   ]
  },
  {
   "cell_type": "code",
   "execution_count": null,
   "id": "cf45ae17",
   "metadata": {},
   "outputs": [],
   "source": []
  }
 ],
 "metadata": {
  "kernelspec": {
   "display_name": "Python 3",
   "language": "python",
   "name": "python3"
  },
  "language_info": {
   "codemirror_mode": {
    "name": "ipython",
    "version": 3
   },
   "file_extension": ".py",
   "mimetype": "text/x-python",
   "name": "python",
   "nbconvert_exporter": "python",
   "pygments_lexer": "ipython3",
   "version": "3.8.8"
  }
 },
 "nbformat": 4,
 "nbformat_minor": 5
}
