{
 "cells": [
  {
   "cell_type": "markdown",
   "id": "ce054f1f",
   "metadata": {},
   "source": [
    "# Promación en Python\n",
    "## 1. Variables, Tipos de datos y Operadores\n",
    "### 1.1 Variables\n",
    "\n",
    "*viqui*\n",
    "\n",
    "Una variable es una posición de memoria con un nombre asociado. Para asignar un valor a una variable se usa el operador ="
   ]
  },
  {
   "cell_type": "code",
   "execution_count": 1,
   "id": "446e217b",
   "metadata": {},
   "outputs": [
    {
     "data": {
      "text/plain": [
       "13"
      ]
     },
     "execution_count": 1,
     "metadata": {},
     "output_type": "execute_result"
    }
   ],
   "source": [
    "# Asignador el valor 13 a la variable x\n",
    "x = 13\n",
    "x # Imprime el valor asignado"
   ]
  },
  {
   "cell_type": "code",
   "execution_count": 2,
   "id": "92d27a46",
   "metadata": {},
   "outputs": [
    {
     "name": "stdout",
     "output_type": "stream",
     "text": [
      "13\n",
      "42\n"
     ]
    }
   ],
   "source": [
    "y = x\n",
    "print(y)\n",
    "\n",
    "x = 42\n",
    "print(x)"
   ]
  },
  {
   "cell_type": "markdown",
   "id": "21b97a17",
   "metadata": {},
   "source": [
    "#### Guía de estilo: Convenciones al nombrar variables\n",
    "\n",
    "Las variables se nombran en minúsculas, y si el nombre está compuesto por múltiples palabras, estas se separan con una barra baja `_`"
   ]
  },
  {
   "cell_type": "code",
   "execution_count": 3,
   "id": "c4c9370f",
   "metadata": {},
   "outputs": [],
   "source": [
    "es_variable= 3.4"
   ]
  },
  {
   "cell_type": "markdown",
   "id": "61542775",
   "metadata": {},
   "source": [
    "### Unpacking\n",
    "\n",
    "La asignación de variables puede ser realizada en bloque en una sóla línea.\n",
    "\n",
    "En lugar de asignar:\n",
    "```python\n",
    "a = 10\n",
    "b = 15\n",
    "```\n",
    "\n",
    "podemos asignar de la siguiente manera:\n",
    "```python\n",
    "a, b = 10, 15\n",
    "```\n",
    "\n",
    "esta asignación es muy útil cuando queremos hacer un intercambio en las variables, debido a que nos ahorra la creación de una variable intermedia."
   ]
  },
  {
   "cell_type": "code",
   "execution_count": 5,
   "id": "04acb281",
   "metadata": {},
   "outputs": [
    {
     "name": "stdout",
     "output_type": "stream",
     "text": [
      "Hola Viqui\n",
      "Viqui Hola\n"
     ]
    }
   ],
   "source": [
    "a = 'Hola'\n",
    "b = 'Viqui'\n",
    "\n",
    "print(a,b)\n",
    "\n",
    "c = a\n",
    "a = b\n",
    "b = c\n",
    "\n",
    "print(a,b)\n",
    "      "
   ]
  },
  {
   "cell_type": "markdown",
   "id": "064057c7",
   "metadata": {},
   "source": [
    "### Recolección de basura\n",
    "En la mayoría de lenguajes de programación modernos, existe una funcionalidad llamada *Recolector de Basura*, la cual elimina la necesidad del programador de preocuparse por la administración manual de la memoria. Este entra en acción cuando algún bloque de memoria ya no se utiliza, es decir, ninguna variable está apuntando a él. En el caso anterior con la variable $x$ antes de tomar en cuanta la existencia de $y$, el recolector de basura detecta en algún momento que $13$ ya no se utiliza y procede a eliminarlo."
   ]
  },
  {
   "cell_type": "markdown",
   "id": "bb17456d",
   "metadata": {},
   "source": [
    "## 1.2 Tipos de datos\n",
    "\n",
    "Existen distintos tipos de datos \"primitivos\", algunos de estos son:\n",
    "\n",
    "* Entero, un número entero de representación infinita (lo que soporte la máquina), cuya palabra reservada para representarlo es:\n",
    "    ```python\n",
    "    int\n",
    "    \n",
    "    entero = 10\n",
    "    ```\n",
    "* Flotante, un número decimal equivalente a un double en otros lenguajes de programación, cuya palabra reservada para representarlo es:\n",
    "    ```python\n",
    "    float\n",
    "    \n",
    "    decimal = 4.32\n",
    "    ```\n",
    "* Cadena, nos permite almacenar caracteres de texto unicode y se representa por comillas simples o dobles: la palabra reservada del tipo es:\n",
    "    ```python\n",
    "    str\n",
    "    \n",
    "    cadena = 'Hola'\n",
    "    ```\n",
    "* Lógico, representa los estados lógicos `True` o `False`, cuya palabra reservada para representarlo es:\n",
    "    ```python\n",
    "    bool\n",
    "    ```\n",
    "* Nulo, representa la nada, es el tipo de dato que utiliza python para indicar que algo no tiene valor, en el lenguaje su representación es:\n",
    "    ```python\n",
    "    None\n",
    "    ```\n",
    "Debido a que Python es dinámico, no es necesario definir el tipo de dato que almacena una variable. Sin embargo también podemos hacerlo manualmente:"
   ]
  },
  {
   "cell_type": "code",
   "execution_count": 6,
   "id": "0be3c66d",
   "metadata": {},
   "outputs": [
    {
     "name": "stdout",
     "output_type": "stream",
     "text": [
      "patito\n"
     ]
    }
   ],
   "source": [
    "# Tipamos la variable cad como string\n",
    "\n",
    "cad: str = 'patito'\n",
    "    \n",
    "print(cad)"
   ]
  },
  {
   "cell_type": "markdown",
   "id": "d5ad617d",
   "metadata": {},
   "source": [
    "Para saber el tipo de dato de nuestra variable, se usa la instrucción type"
   ]
  },
  {
   "cell_type": "code",
   "execution_count": 7,
   "id": "d6b77e36",
   "metadata": {},
   "outputs": [
    {
     "data": {
      "text/plain": [
       "str"
      ]
     },
     "execution_count": 7,
     "metadata": {},
     "output_type": "execute_result"
    }
   ],
   "source": [
    "type(cad)"
   ]
  },
  {
   "cell_type": "markdown",
   "id": "368f7dd5",
   "metadata": {},
   "source": [
    "Dadas las palabras reservadas que representan los tipos especificados, podemos convertir los datos entre tipos."
   ]
  },
  {
   "cell_type": "code",
   "execution_count": 8,
   "id": "e80ee0e0",
   "metadata": {},
   "outputs": [
    {
     "name": "stdout",
     "output_type": "stream",
     "text": [
      "10\n"
     ]
    }
   ],
   "source": [
    "n = 10\n",
    "n_cad = str(n)\n",
    "\n",
    "print(n_cad)"
   ]
  },
  {
   "cell_type": "markdown",
   "id": "b2708ac0",
   "metadata": {},
   "source": [
    "## 1.3 Operadores\n",
    "### Operadores aritméticos\n",
    "\n",
    "Considerando operaciones sobre los tipos de datos numéricos `int` y `float`, podemos usar Python como una calculadora, haciendo uso de las operaciones `+`, `-`, `*`, `/`, además de...\n",
    "\n",
    "* División entera: `//`\n",
    "* Exponenciación: `**`\n",
    "* Módulo de enteros (Resto de la división): `%`\n",
    "* Suma de elementos de listas o tuplas de números: `sum()` "
   ]
  },
  {
   "cell_type": "markdown",
   "id": "8f292f64",
   "metadata": {},
   "source": [
    "**Ejemplo:** Suponga que tiene que repartir equitativamente 32 panes entre 3 personas, quedándose usted con el sobrante. ¿Cuántos panes recibirá cada una de las 3 personas?"
   ]
  },
  {
   "cell_type": "code",
   "execution_count": 9,
   "id": "34941b25",
   "metadata": {},
   "outputs": [
    {
     "name": "stdout",
     "output_type": "stream",
     "text": [
      "10\n"
     ]
    }
   ],
   "source": [
    "panes = 32//3\n",
    "print(panes)"
   ]
  },
  {
   "cell_type": "code",
   "execution_count": 10,
   "id": "ed7d522e",
   "metadata": {},
   "outputs": [
    {
     "name": "stdout",
     "output_type": "stream",
     "text": [
      "10.666666666666666\n"
     ]
    }
   ],
   "source": [
    "# Compare con el resultado si pudiéramos fraccionar los panes\n",
    "\n",
    "panes = 32 / 3\n",
    "\n",
    "print(panes)"
   ]
  },
  {
   "cell_type": "code",
   "execution_count": null,
   "id": "d9cfe05b",
   "metadata": {},
   "outputs": [],
   "source": []
  }
 ],
 "metadata": {
  "kernelspec": {
   "display_name": "Python 3",
   "language": "python",
   "name": "python3"
  },
  "language_info": {
   "codemirror_mode": {
    "name": "ipython",
    "version": 3
   },
   "file_extension": ".py",
   "mimetype": "text/x-python",
   "name": "python",
   "nbconvert_exporter": "python",
   "pygments_lexer": "ipython3",
   "version": "3.8.8"
  }
 },
 "nbformat": 4,
 "nbformat_minor": 5
}
