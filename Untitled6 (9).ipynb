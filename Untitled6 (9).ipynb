{
 "cells": [
  {
   "cell_type": "code",
   "execution_count": 17,
   "id": "2a83a916",
   "metadata": {},
   "outputs": [
    {
     "name": "stdout",
     "output_type": "stream",
     "text": [
      "782195\n"
     ]
    }
   ],
   "source": [
    "import IPython, random\n",
    "print(random.randint(1,1000000))\n",
    "assert IPython.version_info[0] >= 3, \"Actualice la versión de su editor de Notebooks\""
   ]
  },
  {
   "cell_type": "markdown",
   "id": "3cae9155",
   "metadata": {},
   "source": [
    "## Problema 8 (10 puntos)\n",
    "\n",
    "Imagine que recibe una **lista** de carnets de identidad que debe utilizar en alguna aplicación, pero detecta un problema. Algunas personas proporcionaron el código del lugar donde el carnet fue expedido y otras no. Es decir, algunas personas escribieron su carnet en formato \"1234567LP\" y otras en formato \"1234567\". Para la aplicación que desarrollará, usted únicamente desea los números del carnet de identidad (excluyendo las letras).\n",
    "\n",
    "Defina una función `numeros_ci` que guarde en una lista todos los carnets, tomando únicamente la parte numérica de cada carnet de identidad."
   ]
  },
  {
   "cell_type": "code",
   "execution_count": 81,
   "id": "c899f8c6",
   "metadata": {},
   "outputs": [],
   "source": [
    "def numeros_ci(x):\n",
    "    numero=[]\n",
    "    for ci in x:\n",
    "        nuevo_ci = ''\n",
    "        for letra in ci:\n",
    "            if(letra.isdigit()):\n",
    "                nuevo_ci += letra \n",
    "        numero.append(nuevo_ci)\n",
    "    return numero\n",
    "    raise NotImplementedError()"
   ]
  },
  {
   "cell_type": "markdown",
   "id": "adbf4934",
   "metadata": {},
   "source": [
    "Probemos con una lista de carnets que contiene el carnet de ejemplo \"1234567LP\". La función debería reemplazar este elemento de la lista por \"1234567\". Por tanto, ejecutar la siguiente línea de código debería retornar `['1234567', '7894561', '4561237']`."
   ]
  },
  {
   "cell_type": "code",
   "execution_count": 82,
   "id": "7b1e03fe",
   "metadata": {},
   "outputs": [
    {
     "data": {
      "text/plain": [
       "['1234567', '7894561', '4561237']"
      ]
     },
     "execution_count": 82,
     "metadata": {},
     "output_type": "execute_result"
    }
   ],
   "source": [
    "numeros_ci(['1234567LP', '7894561', '4561237'])"
   ]
  },
  {
   "cell_type": "code",
   "execution_count": null,
   "id": "a104f97b",
   "metadata": {},
   "outputs": [],
   "source": []
  }
 ],
 "metadata": {
  "kernelspec": {
   "display_name": "Python 3",
   "language": "python",
   "name": "python3"
  },
  "language_info": {
   "codemirror_mode": {
    "name": "ipython",
    "version": 3
   },
   "file_extension": ".py",
   "mimetype": "text/x-python",
   "name": "python",
   "nbconvert_exporter": "python",
   "pygments_lexer": "ipython3",
   "version": "3.8.8"
  }
 },
 "nbformat": 4,
 "nbformat_minor": 5
}
