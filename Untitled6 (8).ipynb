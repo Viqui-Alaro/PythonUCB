{
 "cells": [
  {
   "cell_type": "code",
   "execution_count": 17,
   "id": "6fcb2df9",
   "metadata": {},
   "outputs": [
    {
     "name": "stdout",
     "output_type": "stream",
     "text": [
      "782195\n"
     ]
    }
   ],
   "source": [
    "import IPython, random\n",
    "print(random.randint(1,1000000))\n",
    "assert IPython.version_info[0] >= 3, \"Actualice la versión de su editor de Notebooks\""
   ]
  },
  {
   "cell_type": "markdown",
   "id": "759a1274",
   "metadata": {},
   "source": [
    "## Problema 7 (10 puntos)\n",
    "\n",
    "Escriba una función que, dado un string/cadena, tenga como salida el número de mayúsculas de dicho string/cadena."
   ]
  },
  {
   "cell_type": "code",
   "execution_count": 67,
   "id": "b710cca4",
   "metadata": {},
   "outputs": [],
   "source": [
    "def cuantas_mayus(x):\n",
    "    contar=0\n",
    "    for letra in x:\n",
    "        if(letra.isupper()):\n",
    "            contar=contar+1\n",
    "    return contar\n",
    "    raise NotImplementedError()"
   ]
  },
  {
   "cell_type": "markdown",
   "id": "da4e9197",
   "metadata": {},
   "source": [
    "Por ejemplo, el string \"Peter Parker\" tiene 2 mayúsculas, veamos si la función que hemos definido retorna el valor \"2\" para este texto:"
   ]
  },
  {
   "cell_type": "code",
   "execution_count": 68,
   "id": "119a7ba5",
   "metadata": {},
   "outputs": [
    {
     "data": {
      "text/plain": [
       "2"
      ]
     },
     "execution_count": 68,
     "metadata": {},
     "output_type": "execute_result"
    }
   ],
   "source": [
    "cuantas_mayus(\"Peter Parker\")"
   ]
  },
  {
   "cell_type": "code",
   "execution_count": null,
   "id": "c7e4e06f",
   "metadata": {},
   "outputs": [],
   "source": []
  }
 ],
 "metadata": {
  "kernelspec": {
   "display_name": "Python 3",
   "language": "python",
   "name": "python3"
  },
  "language_info": {
   "codemirror_mode": {
    "name": "ipython",
    "version": 3
   },
   "file_extension": ".py",
   "mimetype": "text/x-python",
   "name": "python",
   "nbconvert_exporter": "python",
   "pygments_lexer": "ipython3",
   "version": "3.8.8"
  }
 },
 "nbformat": 4,
 "nbformat_minor": 5
}
