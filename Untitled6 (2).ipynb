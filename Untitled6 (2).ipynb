{
 "cells": [
  {
   "cell_type": "code",
   "execution_count": 17,
   "id": "5e7f5f26",
   "metadata": {},
   "outputs": [
    {
     "name": "stdout",
     "output_type": "stream",
     "text": [
      "782195\n"
     ]
    }
   ],
   "source": [
    "import IPython, random\n",
    "print(random.randint(1,1000000))\n",
    "assert IPython.version_info[0] >= 3, \"Actualice la versión de su editor de Notebooks\""
   ]
  },
  {
   "cell_type": "markdown",
   "id": "3bf43f90",
   "metadata": {},
   "source": [
    "## Pregunta 3 (10 puntos)\n",
    "\n",
    "Implemente una función llamada `promedio`, que reciba una lista y tenga como salida el promedio de los números en la lista. En la solución **NO** puede usar las funciones de librerías de Python que logran lo mismo con funciones como `statistics.mean`, debe crear la función Usted mismo en vez de usar una función ya armada. "
   ]
  },
  {
   "cell_type": "code",
   "execution_count": 34,
   "id": "8550be55",
   "metadata": {},
   "outputs": [],
   "source": [
    "def promedio(x):\n",
    "    # REEMPLACE ESTE COMENTARIO CON SU SOLUCION\n",
    "    promedio = sum(x)/len(x)\n",
    "    return(promedio)\n",
    "    raise NotImplementedError()"
   ]
  },
  {
   "cell_type": "markdown",
   "id": "e5875a27",
   "metadata": {},
   "source": [
    "Por ejemplo sabemos que el promedio de `[1,3]` es 2, por tanto verifiquemos si el resultado es 2 con nuestra función."
   ]
  },
  {
   "cell_type": "code",
   "execution_count": 35,
   "id": "5ee2d6c0",
   "metadata": {},
   "outputs": [
    {
     "data": {
      "text/plain": [
       "2.0"
      ]
     },
     "execution_count": 35,
     "metadata": {},
     "output_type": "execute_result"
    }
   ],
   "source": [
    "promedio([1,3])"
   ]
  },
  {
   "cell_type": "code",
   "execution_count": null,
   "id": "cc6e3a50",
   "metadata": {},
   "outputs": [],
   "source": []
  }
 ],
 "metadata": {
  "kernelspec": {
   "display_name": "Python 3",
   "language": "python",
   "name": "python3"
  },
  "language_info": {
   "codemirror_mode": {
    "name": "ipython",
    "version": 3
   },
   "file_extension": ".py",
   "mimetype": "text/x-python",
   "name": "python",
   "nbconvert_exporter": "python",
   "pygments_lexer": "ipython3",
   "version": "3.8.8"
  }
 },
 "nbformat": 4,
 "nbformat_minor": 5
}
